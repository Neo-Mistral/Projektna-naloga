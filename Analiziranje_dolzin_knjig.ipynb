{
 "cells": [
  {
   "cell_type": "markdown",
   "metadata": {},
   "source": [
    "# Analiziranje dolžin knjig"
   ]
  },
  {
   "cell_type": "markdown",
   "metadata": {},
   "source": [
    "V tej datoteki analiziramo podatke, povezane z dolžinami knjig iz fantazijske zbirke knjig \"Malazan Book of the Fallen\" avtorja Stevena Eriksona in zbirke \"Novels of the Malazan Empire\" avtorja Ian C. Esslemonta. V prvi zbirki je 10 knjig, v drugi pa 6. "
   ]
  },
  {
   "cell_type": "code",
   "execution_count": 5,
   "metadata": {},
   "outputs": [],
   "source": [
    "import os\n",
    "import pandas as pd\n",
    "\n",
    "directory_obdelani = 'podatki-obdelani'\n",
    "csv_osebe = 'osebe.csv'\n",
    "csv_knjige = 'knjige.csv'\n",
    "csv_dolzine = 'dolžine.csv'\n",
    "#količina izpisanih vrstic\n",
    "pd.set_option(\"display.max_rows\", 12)\n",
    "# izberemo interaktivni \"notebook\" stil risanja\n",
    "%matplotlib inline\n",
    "path_osebe = os.path.join(directory_obdelani, csv_osebe)\n",
    "osebe = pd.read_csv(path_osebe)\n",
    "osebe.index += 1\n",
    "\n",
    "path_knjige = os.path.join(directory_obdelani, csv_knjige)\n",
    "knjige = pd.read_csv(path_knjige)\n",
    "knjige.index += 1\n",
    "\n",
    "path_dolzine = os.path.join(directory_obdelani, csv_dolzine)\n",
    "dolzine = pd.read_csv(path_dolzine)\n",
    "dolzine.index += 1"
   ]
  },
  {
   "cell_type": "markdown",
   "metadata": {},
   "source": [
    "## 1.Osnovne informacije"
   ]
  },
  {
   "cell_type": "markdown",
   "metadata": {},
   "source": [
    "### 1.1 Razpredelnica - dolžine knjig"
   ]
  },
  {
   "cell_type": "markdown",
   "metadata": {},
   "source": [
    "Tabela z podatki, v kateri je zapisano število besed in število strani za vsako knjigo."
   ]
  },
  {
   "cell_type": "code",
   "execution_count": 6,
   "metadata": {},
   "outputs": [
    {
     "data": {
      "text/html": [
       "<div>\n",
       "<style scoped>\n",
       "    .dataframe tbody tr th:only-of-type {\n",
       "        vertical-align: middle;\n",
       "    }\n",
       "\n",
       "    .dataframe tbody tr th {\n",
       "        vertical-align: top;\n",
       "    }\n",
       "\n",
       "    .dataframe thead th {\n",
       "        text-align: right;\n",
       "    }\n",
       "</style>\n",
       "<table border=\"1\" class=\"dataframe\">\n",
       "  <thead>\n",
       "    <tr style=\"text-align: right;\">\n",
       "      <th></th>\n",
       "      <th>ime</th>\n",
       "      <th>stevilo besed</th>\n",
       "      <th>stevilo strani</th>\n",
       "    </tr>\n",
       "  </thead>\n",
       "  <tbody>\n",
       "    <tr>\n",
       "      <th>1</th>\n",
       "      <td>Gardens of the Moon</td>\n",
       "      <td>209000</td>\n",
       "      <td>496</td>\n",
       "    </tr>\n",
       "    <tr>\n",
       "      <th>2</th>\n",
       "      <td>Deadhouse Gates</td>\n",
       "      <td>272000</td>\n",
       "      <td>604</td>\n",
       "    </tr>\n",
       "    <tr>\n",
       "      <th>3</th>\n",
       "      <td>Memories of Ice</td>\n",
       "      <td>358000</td>\n",
       "      <td>780</td>\n",
       "    </tr>\n",
       "    <tr>\n",
       "      <th>4</th>\n",
       "      <td>House of Chains</td>\n",
       "      <td>306000</td>\n",
       "      <td>672</td>\n",
       "    </tr>\n",
       "    <tr>\n",
       "      <th>5</th>\n",
       "      <td>Midnight Tides</td>\n",
       "      <td>270000</td>\n",
       "      <td>624</td>\n",
       "    </tr>\n",
       "    <tr>\n",
       "      <th>...</th>\n",
       "      <td>...</td>\n",
       "      <td>...</td>\n",
       "      <td>...</td>\n",
       "    </tr>\n",
       "    <tr>\n",
       "      <th>12</th>\n",
       "      <td>Return of the Crimson Guard</td>\n",
       "      <td>272000</td>\n",
       "      <td>702</td>\n",
       "    </tr>\n",
       "    <tr>\n",
       "      <th>13</th>\n",
       "      <td>Stonewielder</td>\n",
       "      <td>198000</td>\n",
       "      <td>634</td>\n",
       "    </tr>\n",
       "    <tr>\n",
       "      <th>14</th>\n",
       "      <td>Orb Sceptre Throne</td>\n",
       "      <td>188000</td>\n",
       "      <td>605</td>\n",
       "    </tr>\n",
       "    <tr>\n",
       "      <th>15</th>\n",
       "      <td>Blood and Bone</td>\n",
       "      <td>183000</td>\n",
       "      <td>586</td>\n",
       "    </tr>\n",
       "    <tr>\n",
       "      <th>16</th>\n",
       "      <td>Assail</td>\n",
       "      <td>168000</td>\n",
       "      <td>544</td>\n",
       "    </tr>\n",
       "  </tbody>\n",
       "</table>\n",
       "<p>16 rows × 3 columns</p>\n",
       "</div>"
      ],
      "text/plain": [
       "                            ime  stevilo besed  stevilo strani\n",
       "1           Gardens of the Moon         209000             496\n",
       "2               Deadhouse Gates         272000             604\n",
       "3               Memories of Ice         358000             780\n",
       "4               House of Chains         306000             672\n",
       "5                Midnight Tides         270000             624\n",
       "..                          ...            ...             ...\n",
       "12  Return of the Crimson Guard         272000             702\n",
       "13                 Stonewielder         198000             634\n",
       "14           Orb Sceptre Throne         188000             605\n",
       "15               Blood and Bone         183000             586\n",
       "16                       Assail         168000             544\n",
       "\n",
       "[16 rows x 3 columns]"
      ]
     },
     "execution_count": 6,
     "metadata": {},
     "output_type": "execute_result"
    }
   ],
   "source": [
    "dolzine"
   ]
  }
 ],
 "metadata": {
  "kernelspec": {
   "display_name": "Python 3",
   "language": "python",
   "name": "python3"
  },
  "language_info": {
   "codemirror_mode": {
    "name": "ipython",
    "version": 3
   },
   "file_extension": ".py",
   "mimetype": "text/x-python",
   "name": "python",
   "nbconvert_exporter": "python",
   "pygments_lexer": "ipython3",
   "version": "3.11.2"
  },
  "orig_nbformat": 4
 },
 "nbformat": 4,
 "nbformat_minor": 2
}
