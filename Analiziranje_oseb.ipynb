{
 "cells": [
  {
   "cell_type": "markdown",
   "metadata": {},
   "source": [
    "# Analiziranje oseb"
   ]
  },
  {
   "cell_type": "markdown",
   "metadata": {},
   "source": [
    "V tej datoteki analiziramo podatke, povezane z osebami iz fantazijske zbirke knjig \"Malazan Book of the Fallen\" avtorja Stevena Eriksona in zbirke \"Novels of the Malazan Empire\" avtorja Ian C. Esslemonta. V prvi zbirki je 10 knjig, v drugi pa 6. Obe zbirki se dogajata v istem svetu, zato je tudi veliko oseb prisotnih v eni kot v drugi."
   ]
  },
  {
   "cell_type": "code",
   "execution_count": 13,
   "metadata": {},
   "outputs": [],
   "source": [
    "import os\n",
    "import pandas as pd\n",
    "\n",
    "directory_obdelani = 'podatki-obdelani'\n",
    "csv_osebe = 'osebe.csv'\n",
    "csv_knjige = 'knjige.csv'\n",
    "#količina izpisanih vrstic\n",
    "pd.set_option(\"display.max_rows\", 12)\n",
    "# izberemo interaktivni \"notebook\" stil risanja\n",
    "%matplotlib inline\n",
    "path_osebe = os.path.join(directory_obdelani, csv_osebe)\n",
    "osebe = pd.read_csv(path_osebe)\n",
    "osebe.index += 1\n",
    "\n",
    "path_knjige = os.path.join(directory_obdelani, csv_knjige)\n",
    "knjige = pd.read_csv(path_knjige)\n",
    "knjige.index += 1"
   ]
  },
  {
   "cell_type": "markdown",
   "metadata": {},
   "source": [
    "## 1.Osnovne informacije"
   ]
  },
  {
   "cell_type": "markdown",
   "metadata": {},
   "source": [
    "### 1.1 Razpredelnica - osebe"
   ]
  },
  {
   "cell_type": "markdown",
   "metadata": {},
   "source": [
    "Tu imamo razpredelnico, iz katere pridobivamo podatke za nadalnje analiziranje. V njej imamo ime osebe, v katerih knjigah se ta oseba pojavlja in kratek opis. Podatke za analizo jemljemo tudi iz razpredelnice za knjige."
   ]
  },
  {
   "cell_type": "code",
   "execution_count": 14,
   "metadata": {},
   "outputs": [
    {
     "data": {
      "text/html": [
       "<div>\n",
       "<style scoped>\n",
       "    .dataframe tbody tr th:only-of-type {\n",
       "        vertical-align: middle;\n",
       "    }\n",
       "\n",
       "    .dataframe tbody tr th {\n",
       "        vertical-align: top;\n",
       "    }\n",
       "\n",
       "    .dataframe thead th {\n",
       "        text-align: right;\n",
       "    }\n",
       "</style>\n",
       "<table border=\"1\" class=\"dataframe\">\n",
       "  <thead>\n",
       "    <tr style=\"text-align: right;\">\n",
       "      <th></th>\n",
       "      <th>ime</th>\n",
       "      <th>pojavljanje</th>\n",
       "      <th>opis</th>\n",
       "    </tr>\n",
       "  </thead>\n",
       "  <tbody>\n",
       "    <tr>\n",
       "      <th>1</th>\n",
       "      <td>A'Karonys</td>\n",
       "      <td>GotM</td>\n",
       "      <td>High Mage of the Malazan Empire</td>\n",
       "    </tr>\n",
       "    <tr>\n",
       "      <th>2</th>\n",
       "      <td>Abide</td>\n",
       "      <td>CG</td>\n",
       "      <td>Pure Forkrul Assail, lawful inquisitor, mystic</td>\n",
       "    </tr>\n",
       "    <tr>\n",
       "      <th>3</th>\n",
       "      <td>Able</td>\n",
       "      <td>HoC</td>\n",
       "      <td>Soldier in the Bonehunters</td>\n",
       "    </tr>\n",
       "    <tr>\n",
       "      <th>4</th>\n",
       "      <td>Abrastal</td>\n",
       "      <td>DoD, CG</td>\n",
       "      <td>Queen of Bolkando</td>\n",
       "    </tr>\n",
       "    <tr>\n",
       "      <th>5</th>\n",
       "      <td>Absi</td>\n",
       "      <td>DoD, CG</td>\n",
       "      <td>Son of Onos T'oolan (Tool) and Hetan</td>\n",
       "    </tr>\n",
       "    <tr>\n",
       "      <th>...</th>\n",
       "      <td>...</td>\n",
       "      <td>...</td>\n",
       "      <td>...</td>\n",
       "    </tr>\n",
       "    <tr>\n",
       "      <th>690</th>\n",
       "      <td>Withal</td>\n",
       "      <td>MT, BH, RG, DoD, CG</td>\n",
       "      <td>A Meckros Weaponsmith who briefly works for th...</td>\n",
       "    </tr>\n",
       "    <tr>\n",
       "      <th>691</th>\n",
       "      <td>Wither</td>\n",
       "      <td>MT, RG</td>\n",
       "      <td>Shadow wraith</td>\n",
       "    </tr>\n",
       "    <tr>\n",
       "      <th>692</th>\n",
       "      <td>Wu</td>\n",
       "      <td>DL, DhL</td>\n",
       "      <td>Dal Hon mage that would later take the name Ke...</td>\n",
       "    </tr>\n",
       "    <tr>\n",
       "      <th>693</th>\n",
       "      <td>Yan Tovis</td>\n",
       "      <td>MT, BH, RG, DoD, CG</td>\n",
       "      <td>Letherii Atri-Preda at Feint Reach, also calle...</td>\n",
       "    </tr>\n",
       "    <tr>\n",
       "      <th>694</th>\n",
       "      <td>Yedan Derryg</td>\n",
       "      <td>RG, DoD, CG</td>\n",
       "      <td>Letherii, the Watch</td>\n",
       "    </tr>\n",
       "  </tbody>\n",
       "</table>\n",
       "<p>694 rows × 3 columns</p>\n",
       "</div>"
      ],
      "text/plain": [
       "              ime          pojavljanje  \\\n",
       "1       A'Karonys                 GotM   \n",
       "2           Abide                   CG   \n",
       "3            Able                  HoC   \n",
       "4        Abrastal              DoD, CG   \n",
       "5            Absi              DoD, CG   \n",
       "..            ...                  ...   \n",
       "690        Withal  MT, BH, RG, DoD, CG   \n",
       "691        Wither               MT, RG   \n",
       "692            Wu              DL, DhL   \n",
       "693     Yan Tovis  MT, BH, RG, DoD, CG   \n",
       "694  Yedan Derryg          RG, DoD, CG   \n",
       "\n",
       "                                                  opis  \n",
       "1                      High Mage of the Malazan Empire  \n",
       "2       Pure Forkrul Assail, lawful inquisitor, mystic  \n",
       "3                           Soldier in the Bonehunters  \n",
       "4                                    Queen of Bolkando  \n",
       "5                 Son of Onos T'oolan (Tool) and Hetan  \n",
       "..                                                 ...  \n",
       "690  A Meckros Weaponsmith who briefly works for th...  \n",
       "691                                      Shadow wraith  \n",
       "692  Dal Hon mage that would later take the name Ke...  \n",
       "693  Letherii Atri-Preda at Feint Reach, also calle...  \n",
       "694                                Letherii, the Watch  \n",
       "\n",
       "[694 rows x 3 columns]"
      ]
     },
     "execution_count": 14,
     "metadata": {},
     "output_type": "execute_result"
    }
   ],
   "source": [
    "osebe"
   ]
  },
  {
   "cell_type": "markdown",
   "metadata": {},
   "source": [
    "### 1.2 Osnovne statistike"
   ]
  },
  {
   "cell_type": "markdown",
   "metadata": {},
   "source": [
    "Nekaj osnovnih statistik naših podatkov."
   ]
  },
  {
   "cell_type": "code",
   "execution_count": 15,
   "metadata": {},
   "outputs": [
    {
     "data": {
      "text/html": [
       "<div>\n",
       "<style scoped>\n",
       "    .dataframe tbody tr th:only-of-type {\n",
       "        vertical-align: middle;\n",
       "    }\n",
       "\n",
       "    .dataframe tbody tr th {\n",
       "        vertical-align: top;\n",
       "    }\n",
       "\n",
       "    .dataframe thead th {\n",
       "        text-align: right;\n",
       "    }\n",
       "</style>\n",
       "<table border=\"1\" class=\"dataframe\">\n",
       "  <thead>\n",
       "    <tr style=\"text-align: right;\">\n",
       "      <th></th>\n",
       "      <th>ime</th>\n",
       "      <th>pojavljanje</th>\n",
       "      <th>opis</th>\n",
       "    </tr>\n",
       "  </thead>\n",
       "  <tbody>\n",
       "    <tr>\n",
       "      <th>count</th>\n",
       "      <td>694</td>\n",
       "      <td>693</td>\n",
       "      <td>694</td>\n",
       "    </tr>\n",
       "    <tr>\n",
       "      <th>unique</th>\n",
       "      <td>694</td>\n",
       "      <td>132</td>\n",
       "      <td>505</td>\n",
       "    </tr>\n",
       "    <tr>\n",
       "      <th>top</th>\n",
       "      <td>A'Karonys</td>\n",
       "      <td>MoI</td>\n",
       "      <td>Soldier in the Bonehunters</td>\n",
       "    </tr>\n",
       "    <tr>\n",
       "      <th>freq</th>\n",
       "      <td>1</td>\n",
       "      <td>67</td>\n",
       "      <td>44</td>\n",
       "    </tr>\n",
       "  </tbody>\n",
       "</table>\n",
       "</div>"
      ],
      "text/plain": [
       "              ime pojavljanje                        opis\n",
       "count         694         693                         694\n",
       "unique        694         132                         505\n",
       "top     A'Karonys         MoI  Soldier in the Bonehunters\n",
       "freq            1          67                          44"
      ]
     },
     "execution_count": 15,
     "metadata": {},
     "output_type": "execute_result"
    }
   ],
   "source": [
    "osebe.describe()"
   ]
  },
  {
   "cell_type": "markdown",
   "metadata": {},
   "source": [
    "## 2.Tabele"
   ]
  },
  {
   "cell_type": "markdown",
   "metadata": {},
   "source": [
    "### 2.1 Pogostost začetnic"
   ]
  },
  {
   "cell_type": "markdown",
   "metadata": {},
   "source": [
    "Tu vidimo, koliko imen ima isto začetnico."
   ]
  },
  {
   "cell_type": "code",
   "execution_count": 16,
   "metadata": {},
   "outputs": [
    {
     "data": {
      "text/html": [
       "<div>\n",
       "<style scoped>\n",
       "    .dataframe tbody tr th:only-of-type {\n",
       "        vertical-align: middle;\n",
       "    }\n",
       "\n",
       "    .dataframe tbody tr th {\n",
       "        vertical-align: top;\n",
       "    }\n",
       "\n",
       "    .dataframe thead th {\n",
       "        text-align: right;\n",
       "    }\n",
       "</style>\n",
       "<table border=\"1\" class=\"dataframe\">\n",
       "  <thead>\n",
       "    <tr style=\"text-align: right;\">\n",
       "      <th></th>\n",
       "      <th>ponovitve</th>\n",
       "    </tr>\n",
       "    <tr>\n",
       "      <th>začetnice</th>\n",
       "      <th></th>\n",
       "    </tr>\n",
       "  </thead>\n",
       "  <tbody>\n",
       "    <tr>\n",
       "      <th>A</th>\n",
       "      <td>31</td>\n",
       "    </tr>\n",
       "    <tr>\n",
       "      <th>B</th>\n",
       "      <td>70</td>\n",
       "    </tr>\n",
       "    <tr>\n",
       "      <th>C</th>\n",
       "      <td>32</td>\n",
       "    </tr>\n",
       "    <tr>\n",
       "      <th>D</th>\n",
       "      <td>24</td>\n",
       "    </tr>\n",
       "    <tr>\n",
       "      <th>E</th>\n",
       "      <td>13</td>\n",
       "    </tr>\n",
       "    <tr>\n",
       "      <th>...</th>\n",
       "      <td>...</td>\n",
       "    </tr>\n",
       "    <tr>\n",
       "      <th>V</th>\n",
       "      <td>10</td>\n",
       "    </tr>\n",
       "    <tr>\n",
       "      <th>W</th>\n",
       "      <td>6</td>\n",
       "    </tr>\n",
       "    <tr>\n",
       "      <th>X</th>\n",
       "      <td>0</td>\n",
       "    </tr>\n",
       "    <tr>\n",
       "      <th>Y</th>\n",
       "      <td>2</td>\n",
       "    </tr>\n",
       "    <tr>\n",
       "      <th>Z</th>\n",
       "      <td>0</td>\n",
       "    </tr>\n",
       "  </tbody>\n",
       "</table>\n",
       "<p>25 rows × 1 columns</p>\n",
       "</div>"
      ],
      "text/plain": [
       "           ponovitve\n",
       "začetnice           \n",
       "A                 31\n",
       "B                 70\n",
       "C                 32\n",
       "D                 24\n",
       "E                 13\n",
       "...              ...\n",
       "V                 10\n",
       "W                  6\n",
       "X                  0\n",
       "Y                  2\n",
       "Z                  0\n",
       "\n",
       "[25 rows x 1 columns]"
      ]
     },
     "execution_count": 16,
     "metadata": {},
     "output_type": "execute_result"
    }
   ],
   "source": [
    "zacetnice_ponovitve = {}\n",
    "for i in \"ABCDEFGHIJKLMNOPRSTUVWXYZ\":\n",
    "    zacetnice_ponovitve[i] = 0\n",
    "    for j in osebe['ime']:\n",
    "        if i == j[0]:\n",
    "            zacetnice_ponovitve[i] += 1\n",
    "            \n",
    "zacetnice = {'začetnice':list(zacetnice_ponovitve.keys()), 'ponovitve':list(zacetnice_ponovitve.values())}\n",
    "zacetnice_pd = pd.DataFrame.from_dict(zacetnice)\n",
    "zacetnice_pd = zacetnice_pd.set_index(['začetnice'])\n",
    "zacetnice_pd"
   ]
  },
  {
   "cell_type": "markdown",
   "metadata": {},
   "source": [
    "### 2.2 Število pojavitev v knjigah"
   ]
  },
  {
   "cell_type": "markdown",
   "metadata": {},
   "source": [
    "Za vsako osebo imamo podano, v koliko knjigah se pojavi."
   ]
  },
  {
   "cell_type": "code",
   "execution_count": 17,
   "metadata": {},
   "outputs": [
    {
     "data": {
      "text/html": [
       "<div>\n",
       "<style scoped>\n",
       "    .dataframe tbody tr th:only-of-type {\n",
       "        vertical-align: middle;\n",
       "    }\n",
       "\n",
       "    .dataframe tbody tr th {\n",
       "        vertical-align: top;\n",
       "    }\n",
       "\n",
       "    .dataframe thead th {\n",
       "        text-align: right;\n",
       "    }\n",
       "</style>\n",
       "<table border=\"1\" class=\"dataframe\">\n",
       "  <thead>\n",
       "    <tr style=\"text-align: right;\">\n",
       "      <th></th>\n",
       "      <th>pojavitve</th>\n",
       "    </tr>\n",
       "    <tr>\n",
       "      <th>oseba</th>\n",
       "      <th></th>\n",
       "    </tr>\n",
       "  </thead>\n",
       "  <tbody>\n",
       "    <tr>\n",
       "      <th>A'Karonys</th>\n",
       "      <td>1</td>\n",
       "    </tr>\n",
       "    <tr>\n",
       "      <th>Abide</th>\n",
       "      <td>1</td>\n",
       "    </tr>\n",
       "    <tr>\n",
       "      <th>Able</th>\n",
       "      <td>1</td>\n",
       "    </tr>\n",
       "    <tr>\n",
       "      <th>Abrastal</th>\n",
       "      <td>2</td>\n",
       "    </tr>\n",
       "    <tr>\n",
       "      <th>Absi</th>\n",
       "      <td>2</td>\n",
       "    </tr>\n",
       "    <tr>\n",
       "      <th>...</th>\n",
       "      <td>...</td>\n",
       "    </tr>\n",
       "    <tr>\n",
       "      <th>Withal</th>\n",
       "      <td>5</td>\n",
       "    </tr>\n",
       "    <tr>\n",
       "      <th>Wither</th>\n",
       "      <td>2</td>\n",
       "    </tr>\n",
       "    <tr>\n",
       "      <th>Wu</th>\n",
       "      <td>2</td>\n",
       "    </tr>\n",
       "    <tr>\n",
       "      <th>Yan Tovis</th>\n",
       "      <td>5</td>\n",
       "    </tr>\n",
       "    <tr>\n",
       "      <th>Yedan Derryg</th>\n",
       "      <td>3</td>\n",
       "    </tr>\n",
       "  </tbody>\n",
       "</table>\n",
       "<p>694 rows × 1 columns</p>\n",
       "</div>"
      ],
      "text/plain": [
       "              pojavitve\n",
       "oseba                  \n",
       "A'Karonys             1\n",
       "Abide                 1\n",
       "Able                  1\n",
       "Abrastal              2\n",
       "Absi                  2\n",
       "...                 ...\n",
       "Withal                5\n",
       "Wither                2\n",
       "Wu                    2\n",
       "Yan Tovis             5\n",
       "Yedan Derryg          3\n",
       "\n",
       "[694 rows x 1 columns]"
      ]
     },
     "execution_count": 17,
     "metadata": {},
     "output_type": "execute_result"
    }
   ],
   "source": [
    "st_pojavitev = {}\n",
    "for i in osebe.index:\n",
    "    x = str(osebe.loc[i]['pojavljanje']).count(' ')\n",
    "    st_pojavitev[osebe.loc[i]['ime']] = x + 1  \n",
    "\n",
    "st_pojavitev_ = {'oseba':list(st_pojavitev.keys()), 'pojavitve':list(st_pojavitev.values())}\n",
    "st_pojavitev_v_knjigah = pd.DataFrame.from_dict(st_pojavitev_)\n",
    "st_pojavitev_v_knjigah = st_pojavitev_v_knjigah.set_index(['oseba'])\n",
    "st_pojavitev_v_knjigah"
   ]
  },
  {
   "cell_type": "code",
   "execution_count": 18,
   "metadata": {},
   "outputs": [
    {
     "data": {
      "text/html": [
       "<div>\n",
       "<style scoped>\n",
       "    .dataframe tbody tr th:only-of-type {\n",
       "        vertical-align: middle;\n",
       "    }\n",
       "\n",
       "    .dataframe tbody tr th {\n",
       "        vertical-align: top;\n",
       "    }\n",
       "\n",
       "    .dataframe thead th {\n",
       "        text-align: right;\n",
       "    }\n",
       "</style>\n",
       "<table border=\"1\" class=\"dataframe\">\n",
       "  <thead>\n",
       "    <tr style=\"text-align: right;\">\n",
       "      <th></th>\n",
       "      <th>pojavitve</th>\n",
       "    </tr>\n",
       "    <tr>\n",
       "      <th>oseba</th>\n",
       "      <th></th>\n",
       "    </tr>\n",
       "  </thead>\n",
       "  <tbody>\n",
       "    <tr>\n",
       "      <th>Cotillion</th>\n",
       "      <td>8</td>\n",
       "    </tr>\n",
       "    <tr>\n",
       "      <th>Ben Adaephon Delat</th>\n",
       "      <td>8</td>\n",
       "    </tr>\n",
       "    <tr>\n",
       "      <th>Shadowthrone</th>\n",
       "      <td>8</td>\n",
       "    </tr>\n",
       "    <tr>\n",
       "      <th>Fiddler</th>\n",
       "      <td>7</td>\n",
       "    </tr>\n",
       "    <tr>\n",
       "      <th>Icarium</th>\n",
       "      <td>7</td>\n",
       "    </tr>\n",
       "    <tr>\n",
       "      <th>...</th>\n",
       "      <td>...</td>\n",
       "    </tr>\n",
       "    <tr>\n",
       "      <th>Grub</th>\n",
       "      <td>6</td>\n",
       "    </tr>\n",
       "    <tr>\n",
       "      <th>Cuttle</th>\n",
       "      <td>6</td>\n",
       "    </tr>\n",
       "    <tr>\n",
       "      <th>Koryk</th>\n",
       "      <td>5</td>\n",
       "    </tr>\n",
       "    <tr>\n",
       "      <th>Kindly</th>\n",
       "      <td>5</td>\n",
       "    </tr>\n",
       "    <tr>\n",
       "      <th>Kruppe</th>\n",
       "      <td>5</td>\n",
       "    </tr>\n",
       "  </tbody>\n",
       "</table>\n",
       "<p>20 rows × 1 columns</p>\n",
       "</div>"
      ],
      "text/plain": [
       "                    pojavitve\n",
       "oseba                        \n",
       "Cotillion                   8\n",
       "Ben Adaephon Delat          8\n",
       "Shadowthrone                8\n",
       "Fiddler                     7\n",
       "Icarium                     7\n",
       "...                       ...\n",
       "Grub                        6\n",
       "Cuttle                      6\n",
       "Koryk                       5\n",
       "Kindly                      5\n",
       "Kruppe                      5\n",
       "\n",
       "[20 rows x 1 columns]"
      ]
     },
     "execution_count": 18,
     "metadata": {},
     "output_type": "execute_result"
    }
   ],
   "source": [
    "st_pojavitev_v_knjigah_top_20 = st_pojavitev_v_knjigah.sort_values('pojavitve', ascending=False).head(20)\n",
    "st_pojavitev_v_knjigah_top_20"
   ]
  },
  {
   "cell_type": "markdown",
   "metadata": {},
   "source": [
    "### 2.3 Pogostost števila pojavitev"
   ]
  },
  {
   "cell_type": "markdown",
   "metadata": {},
   "source": [
    "Pogostost pojavitve nam pove, koliko oseb se pojavi samo v eni knjigi, koliko v dveh, itd. Kakor lahko vidimo, se ena oseba pojavi v največ osmih knjigah."
   ]
  },
  {
   "cell_type": "code",
   "execution_count": 19,
   "metadata": {},
   "outputs": [
    {
     "data": {
      "text/html": [
       "<div>\n",
       "<style scoped>\n",
       "    .dataframe tbody tr th:only-of-type {\n",
       "        vertical-align: middle;\n",
       "    }\n",
       "\n",
       "    .dataframe tbody tr th {\n",
       "        vertical-align: top;\n",
       "    }\n",
       "\n",
       "    .dataframe thead th {\n",
       "        text-align: right;\n",
       "    }\n",
       "</style>\n",
       "<table border=\"1\" class=\"dataframe\">\n",
       "  <thead>\n",
       "    <tr style=\"text-align: right;\">\n",
       "      <th></th>\n",
       "      <th>pojavitve</th>\n",
       "      <th>pogostost pojavitve</th>\n",
       "    </tr>\n",
       "  </thead>\n",
       "  <tbody>\n",
       "    <tr>\n",
       "      <th>0</th>\n",
       "      <td>1</td>\n",
       "      <td>348</td>\n",
       "    </tr>\n",
       "    <tr>\n",
       "      <th>1</th>\n",
       "      <td>2</td>\n",
       "      <td>147</td>\n",
       "    </tr>\n",
       "    <tr>\n",
       "      <th>2</th>\n",
       "      <td>3</td>\n",
       "      <td>88</td>\n",
       "    </tr>\n",
       "    <tr>\n",
       "      <th>3</th>\n",
       "      <td>4</td>\n",
       "      <td>59</td>\n",
       "    </tr>\n",
       "    <tr>\n",
       "      <th>4</th>\n",
       "      <td>5</td>\n",
       "      <td>35</td>\n",
       "    </tr>\n",
       "    <tr>\n",
       "      <th>5</th>\n",
       "      <td>6</td>\n",
       "      <td>8</td>\n",
       "    </tr>\n",
       "    <tr>\n",
       "      <th>6</th>\n",
       "      <td>7</td>\n",
       "      <td>6</td>\n",
       "    </tr>\n",
       "    <tr>\n",
       "      <th>7</th>\n",
       "      <td>8</td>\n",
       "      <td>3</td>\n",
       "    </tr>\n",
       "  </tbody>\n",
       "</table>\n",
       "</div>"
      ],
      "text/plain": [
       "   pojavitve  pogostost pojavitve\n",
       "0          1                  348\n",
       "1          2                  147\n",
       "2          3                   88\n",
       "3          4                   59\n",
       "4          5                   35\n",
       "5          6                    8\n",
       "6          7                    6\n",
       "7          8                    3"
      ]
     },
     "execution_count": 19,
     "metadata": {},
     "output_type": "execute_result"
    }
   ],
   "source": [
    "#pogostost določenih pojavitev\n",
    "st_pojavitev_v_knjigah_pogostost = st_pojavitev_v_knjigah.pivot_table(index = ['pojavitve'], aggfunc='size')\n",
    "st_pojavitev_v_knjigah_pogostost = st_pojavitev_v_knjigah_pogostost.reset_index()\n",
    "st_pojavitev_v_knjigah_pogostost.columns = ['pojavitve', 'pogostost pojavitve']\n",
    "st_pojavitev_v_knjigah_pogostost"
   ]
  },
  {
   "cell_type": "markdown",
   "metadata": {},
   "source": [
    "### 2.4 Pojavitve imen v opisih"
   ]
  },
  {
   "cell_type": "markdown",
   "metadata": {},
   "source": [
    "Tu analiziramo, kako se osebe pojavljajo v opisih drugih oseb, torej koliko vpliva ima določena oseba na ostale."
   ]
  },
  {
   "cell_type": "code",
   "execution_count": 20,
   "metadata": {},
   "outputs": [
    {
     "data": {
      "text/html": [
       "<div>\n",
       "<style scoped>\n",
       "    .dataframe tbody tr th:only-of-type {\n",
       "        vertical-align: middle;\n",
       "    }\n",
       "\n",
       "    .dataframe tbody tr th {\n",
       "        vertical-align: top;\n",
       "    }\n",
       "\n",
       "    .dataframe thead th {\n",
       "        text-align: right;\n",
       "    }\n",
       "</style>\n",
       "<table border=\"1\" class=\"dataframe\">\n",
       "  <thead>\n",
       "    <tr style=\"text-align: right;\">\n",
       "      <th></th>\n",
       "      <th>pojavitve</th>\n",
       "    </tr>\n",
       "    <tr>\n",
       "      <th>ime</th>\n",
       "      <th></th>\n",
       "    </tr>\n",
       "  </thead>\n",
       "  <tbody>\n",
       "    <tr>\n",
       "      <th>A'Karonys</th>\n",
       "      <td>0</td>\n",
       "    </tr>\n",
       "    <tr>\n",
       "      <th>Abide</th>\n",
       "      <td>0</td>\n",
       "    </tr>\n",
       "    <tr>\n",
       "      <th>Able</th>\n",
       "      <td>0</td>\n",
       "    </tr>\n",
       "    <tr>\n",
       "      <th>Abrastal</th>\n",
       "      <td>1</td>\n",
       "    </tr>\n",
       "    <tr>\n",
       "      <th>Absi</th>\n",
       "      <td>1</td>\n",
       "    </tr>\n",
       "    <tr>\n",
       "      <th>...</th>\n",
       "      <td>...</td>\n",
       "    </tr>\n",
       "    <tr>\n",
       "      <th>Withal</th>\n",
       "      <td>1</td>\n",
       "    </tr>\n",
       "    <tr>\n",
       "      <th>Wither</th>\n",
       "      <td>0</td>\n",
       "    </tr>\n",
       "    <tr>\n",
       "      <th>Wu</th>\n",
       "      <td>0</td>\n",
       "    </tr>\n",
       "    <tr>\n",
       "      <th>Yan Tovis</th>\n",
       "      <td>2</td>\n",
       "    </tr>\n",
       "    <tr>\n",
       "      <th>Yedan Derryg</th>\n",
       "      <td>0</td>\n",
       "    </tr>\n",
       "  </tbody>\n",
       "</table>\n",
       "<p>694 rows × 1 columns</p>\n",
       "</div>"
      ],
      "text/plain": [
       "              pojavitve\n",
       "ime                    \n",
       "A'Karonys             0\n",
       "Abide                 0\n",
       "Able                  0\n",
       "Abrastal              1\n",
       "Absi                  1\n",
       "...                 ...\n",
       "Withal                1\n",
       "Wither                0\n",
       "Wu                    0\n",
       "Yan Tovis             2\n",
       "Yedan Derryg          0\n",
       "\n",
       "[694 rows x 1 columns]"
      ]
     },
     "execution_count": 20,
     "metadata": {},
     "output_type": "execute_result"
    }
   ],
   "source": [
    "imena_ponovitve = {}\n",
    "for j in osebe['ime']:\n",
    "    imena_ponovitve[j] = 0\n",
    "    for k in osebe['opis']:\n",
    "        if str(j) in str(k):\n",
    "            imena_ponovitve[j] += 1\n",
    "\n",
    "imena = {'ime':list(imena_ponovitve.keys()), 'pojavitve':list(imena_ponovitve.values())}\n",
    "imena_opisi_pojavitve = pd.DataFrame.from_dict(imena)\n",
    "imena_opisi_pojavitve = imena_opisi_pojavitve.set_index(['ime'])\n",
    "imena_opisi_pojavitve"
   ]
  },
  {
   "cell_type": "code",
   "execution_count": 21,
   "metadata": {},
   "outputs": [
    {
     "data": {
      "text/html": [
       "<div>\n",
       "<style scoped>\n",
       "    .dataframe tbody tr th:only-of-type {\n",
       "        vertical-align: middle;\n",
       "    }\n",
       "\n",
       "    .dataframe tbody tr th {\n",
       "        vertical-align: top;\n",
       "    }\n",
       "\n",
       "    .dataframe thead th {\n",
       "        text-align: right;\n",
       "    }\n",
       "</style>\n",
       "<table border=\"1\" class=\"dataframe\">\n",
       "  <thead>\n",
       "    <tr style=\"text-align: right;\">\n",
       "      <th></th>\n",
       "      <th>pojavitve</th>\n",
       "    </tr>\n",
       "    <tr>\n",
       "      <th>ime</th>\n",
       "      <th></th>\n",
       "    </tr>\n",
       "  </thead>\n",
       "  <tbody>\n",
       "    <tr>\n",
       "      <th>Anomander Rake</th>\n",
       "      <td>10</td>\n",
       "    </tr>\n",
       "    <tr>\n",
       "      <th>Lady Envy</th>\n",
       "      <td>8</td>\n",
       "    </tr>\n",
       "    <tr>\n",
       "      <th>Hunt</th>\n",
       "      <td>8</td>\n",
       "    </tr>\n",
       "    <tr>\n",
       "      <th>Burn</th>\n",
       "      <td>7</td>\n",
       "    </tr>\n",
       "    <tr>\n",
       "      <th>Karsa Orlong</th>\n",
       "      <td>6</td>\n",
       "    </tr>\n",
       "    <tr>\n",
       "      <th>...</th>\n",
       "      <td>...</td>\n",
       "    </tr>\n",
       "    <tr>\n",
       "      <th>Cafal</th>\n",
       "      <td>3</td>\n",
       "    </tr>\n",
       "    <tr>\n",
       "      <th>Kron</th>\n",
       "      <td>3</td>\n",
       "    </tr>\n",
       "    <tr>\n",
       "      <th>Tavore Paran</th>\n",
       "      <td>3</td>\n",
       "    </tr>\n",
       "    <tr>\n",
       "      <th>Icarium</th>\n",
       "      <td>3</td>\n",
       "    </tr>\n",
       "    <tr>\n",
       "      <th>Seerdomin</th>\n",
       "      <td>3</td>\n",
       "    </tr>\n",
       "  </tbody>\n",
       "</table>\n",
       "<p>20 rows × 1 columns</p>\n",
       "</div>"
      ],
      "text/plain": [
       "                pojavitve\n",
       "ime                      \n",
       "Anomander Rake         10\n",
       "Lady Envy               8\n",
       "Hunt                    8\n",
       "Burn                    7\n",
       "Karsa Orlong            6\n",
       "...                   ...\n",
       "Cafal                   3\n",
       "Kron                    3\n",
       "Tavore Paran            3\n",
       "Icarium                 3\n",
       "Seerdomin               3\n",
       "\n",
       "[20 rows x 1 columns]"
      ]
     },
     "execution_count": 21,
     "metadata": {},
     "output_type": "execute_result"
    }
   ],
   "source": [
    "imena_opisi_pojavitve_top_20 = imena_opisi_pojavitve.sort_values(by=['pojavitve'], ascending=False).head(20)\n",
    "imena_opisi_pojavitve_top_20"
   ]
  },
  {
   "cell_type": "markdown",
   "metadata": {},
   "source": [
    "## 3. Grafi"
   ]
  },
  {
   "cell_type": "markdown",
   "metadata": {},
   "source": [
    "### 3.1 Graf začetnic"
   ]
  },
  {
   "cell_type": "markdown",
   "metadata": {},
   "source": [
    "Graf števila oseb z isto začetnico nam pokaže, koliko oseb ima isto začetnico. Kot lahko vidimo, se nobena oseba ne začne z črkama x in y, najbolj pogosta začetnica pa je s."
   ]
  },
  {
   "cell_type": "code",
   "execution_count": 22,
   "metadata": {},
   "outputs": [
    {
     "data": {
      "text/plain": [
       "<Axes: title={'center': 'Število oseb z isto začetnico'}, xlabel='začetnice', ylabel='število oseb'>"
      ]
     },
     "execution_count": 22,
     "metadata": {},
     "output_type": "execute_result"
    },
    {
     "data": {
      "image/png": "[encoded data removed]",
      "text/plain": [
       "<Figure size 1200x600 with 1 Axes>"
      ]
     },
     "metadata": {},
     "output_type": "display_data"
    }
   ],
   "source": [
    "zacetnice_pd.plot.bar(xlabel='začetnice', ylabel='število oseb', figsize=(12, 6), title='Število oseb z isto začetnico', rot=0)"
   ]
  },
  {
   "cell_type": "markdown",
   "metadata": {},
   "source": [
    "### 3.2 Graf pojavitve v knjigah"
   ]
  },
  {
   "cell_type": "markdown",
   "metadata": {},
   "source": [
    "V prikazu števila pojavitev na osebo je razvidno, da zelo malo oseba nastopa v 6 ali večih knjigah. "
   ]
  },
  {
   "cell_type": "code",
   "execution_count": 23,
   "metadata": {},
   "outputs": [
    {
     "data": {
      "text/plain": [
       "<Axes: title={'center': 'Število pojavitev na osebo (top 20)'}, xlabel='osebe', ylabel='število pojavitev'>"
      ]
     },
     "execution_count": 23,
     "metadata": {},
     "output_type": "execute_result"
    },
    {
     "data": {
      "image/png": "[encoded data removed]",
      "text/plain": [
       "<Figure size 1200x600 with 1 Axes>"
      ]
     },
     "metadata": {},
     "output_type": "display_data"
    }
   ],
   "source": [
    "st_pojavitev_v_knjigah_top_20.plot.bar(xlabel='osebe', ylabel='število pojavitev', figsize=(12, 6), title='Število pojavitev na osebo (top 20)')"
   ]
  },
  {
   "cell_type": "markdown",
   "metadata": {},
   "source": [
    "### 3.3 Pogostost števila pojavitev"
   ]
  },
  {
   "cell_type": "markdown",
   "metadata": {},
   "source": [
    "Pogostost števila pojavitev nam pokaže, da večina oseb nastopa le v eni knjigi. Tu bi dodal, da to zelo lepo sovpada z naslovom knjige \"Book of the fallen\", saj ogromno oseb, ki so v vsaki knjigi na novo predstavljene ne dočaka konca knjige."
   ]
  },
  {
   "cell_type": "code",
   "execution_count": 24,
   "metadata": {},
   "outputs": [
    {
     "data": {
      "text/plain": [
       "<Axes: title={'center': 'Pogostost števila pojavitev'}, xlabel='pojavitev', ylabel='pogostost pojavitev'>"
      ]
     },
     "execution_count": 24,
     "metadata": {},
     "output_type": "execute_result"
    },
    {
     "data": {
      "image/png": "[encoded data removed]",
      "text/plain": [
       "<Figure size 1200x600 with 1 Axes>"
      ]
     },
     "metadata": {},
     "output_type": "display_data"
    }
   ],
   "source": [
    "st_pojavitev_v_knjigah_pogostost.plot(x='pojavitve', xlabel='pojavitev', ylabel='pogostost pojavitev', figsize=(12, 6), title='Pogostost števila pojavitev')"
   ]
  },
  {
   "cell_type": "markdown",
   "metadata": {},
   "source": [
    "### 3.4 Graf pojavitev imen v opisih"
   ]
  },
  {
   "cell_type": "markdown",
   "metadata": {},
   "source": [
    "Spodnji graf nam pokaže 20 oseb, ki so najbolj uporabljenje za opisovanje drugih oseb, oziroma se opis drugih oseb nasloni nanje."
   ]
  },
  {
   "cell_type": "code",
   "execution_count": 25,
   "metadata": {},
   "outputs": [
    {
     "data": {
      "text/plain": [
       "<Axes: title={'center': 'Število pojavitev v opisih (top 20)'}, xlabel='oseba', ylabel='število pojavitev'>"
      ]
     },
     "execution_count": 25,
     "metadata": {},
     "output_type": "execute_result"
    },
    {
     "data": {
      "image/png": "[encoded data removed]",
      "text/plain": [
       "<Figure size 1200x600 with 1 Axes>"
      ]
     },
     "metadata": {},
     "output_type": "display_data"
    }
   ],
   "source": [
    "imena_opisi_pojavitve_top_20.plot.bar(xlabel='oseba', ylabel='število pojavitev', figsize=(12, 6), title='Število pojavitev v opisih (top 20)')"
   ]
  }
 ],
 "metadata": {
  "kernelspec": {
   "display_name": "Python 3",
   "language": "python",
   "name": "python3"
  },
  "language_info": {
   "codemirror_mode": {
    "name": "ipython",
    "version": 3
   },
   "file_extension": ".py",
   "mimetype": "text/x-python",
   "name": "python",
   "nbconvert_exporter": "python",
   "pygments_lexer": "ipython3",
   "version": "3.11.2"
  },
  "orig_nbformat": 4
 },
 "nbformat": 4,
 "nbformat_minor": 2
}
