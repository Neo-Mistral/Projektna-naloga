{
 "cells": [
  {
   "cell_type": "markdown",
   "metadata": {},
   "source": [
    "# Analiziranje knjig"
   ]
  },
  {
   "cell_type": "markdown",
   "metadata": {},
   "source": [
    "V tej datoteki analiziramo podatke, povezane z osebami iz fantazijske zbirke knjig \"Malazan Book of the Fallen\" avtorja Stevena Eriksona in zbirke \"Novels of the Malazan Empire\" avtorja Ian C. Esslemonta. V prvi zbirki je 10 knjig, v drugi pa 6."
   ]
  },
  {
   "cell_type": "code",
   "execution_count": 40,
   "metadata": {},
   "outputs": [],
   "source": [
    "import os\n",
    "import pandas as pd\n",
    "\n",
    "directory_obdelani = 'podatki-obdelani'\n",
    "csv_osebe = 'osebe.csv'\n",
    "csv_knjige = 'knjige.csv'\n",
    "#količina izpisanih vrstic\n",
    "pd.set_option(\"display.max_rows\", 12)\n",
    "# izberemo interaktivni \"notebook\" stil risanja\n",
    "\n",
    "path_osebe = os.path.join(directory_obdelani, csv_osebe)\n",
    "osebe = pd.read_csv(path_osebe)\n",
    "osebe.index += 1\n",
    "\n",
    "path_knjige = os.path.join(directory_obdelani, csv_knjige)\n",
    "knjige = pd.read_csv(path_knjige)\n",
    "knjige.index += 1"
   ]
  },
  {
   "cell_type": "markdown",
   "metadata": {},
   "source": [
    "## 1. Osnovne informacije"
   ]
  },
  {
   "cell_type": "markdown",
   "metadata": {},
   "source": [
    "### 1.1 Razpredelnica - knjige"
   ]
  },
  {
   "cell_type": "markdown",
   "metadata": {},
   "source": [
    "Tu imamo razpredelnico, iz katere pridobivamo podatke za nadalnje analiziranje. V njej imamo polna imena knjig in njihove kratice, ki se uporabljajo v prikazu podatkov. Podatke za analizo jemljemo tudi iz razpredelnice za osebe."
   ]
  },
  {
   "cell_type": "code",
   "execution_count": 41,
   "metadata": {},
   "outputs": [
    {
     "data": {
      "text/html": [
       "<div>\n",
       "<style scoped>\n",
       "    .dataframe tbody tr th:only-of-type {\n",
       "        vertical-align: middle;\n",
       "    }\n",
       "\n",
       "    .dataframe tbody tr th {\n",
       "        vertical-align: top;\n",
       "    }\n",
       "\n",
       "    .dataframe thead th {\n",
       "        text-align: right;\n",
       "    }\n",
       "</style>\n",
       "<table border=\"1\" class=\"dataframe\">\n",
       "  <thead>\n",
       "    <tr style=\"text-align: right;\">\n",
       "      <th></th>\n",
       "      <th>ime</th>\n",
       "      <th>kratica</th>\n",
       "    </tr>\n",
       "  </thead>\n",
       "  <tbody>\n",
       "    <tr>\n",
       "      <th>1</th>\n",
       "      <td>Gardens of the Moon</td>\n",
       "      <td>GotM</td>\n",
       "    </tr>\n",
       "    <tr>\n",
       "      <th>2</th>\n",
       "      <td>Deadhouse Gates</td>\n",
       "      <td>DG</td>\n",
       "    </tr>\n",
       "    <tr>\n",
       "      <th>3</th>\n",
       "      <td>Memories of Ice</td>\n",
       "      <td>MoI</td>\n",
       "    </tr>\n",
       "    <tr>\n",
       "      <th>4</th>\n",
       "      <td>House of Chains</td>\n",
       "      <td>HoC</td>\n",
       "    </tr>\n",
       "    <tr>\n",
       "      <th>5</th>\n",
       "      <td>Midnight Tides</td>\n",
       "      <td>MT</td>\n",
       "    </tr>\n",
       "    <tr>\n",
       "      <th>...</th>\n",
       "      <td>...</td>\n",
       "      <td>...</td>\n",
       "    </tr>\n",
       "    <tr>\n",
       "      <th>12</th>\n",
       "      <td>Return of the Crimson Guard</td>\n",
       "      <td>RotCG</td>\n",
       "    </tr>\n",
       "    <tr>\n",
       "      <th>13</th>\n",
       "      <td>Stonewielder</td>\n",
       "      <td>SW</td>\n",
       "    </tr>\n",
       "    <tr>\n",
       "      <th>14</th>\n",
       "      <td>Blood and Bone</td>\n",
       "      <td>BB</td>\n",
       "    </tr>\n",
       "    <tr>\n",
       "      <th>15</th>\n",
       "      <td>Orb Sceptre Throne</td>\n",
       "      <td>OST</td>\n",
       "    </tr>\n",
       "    <tr>\n",
       "      <th>16</th>\n",
       "      <td>Assail</td>\n",
       "      <td>As</td>\n",
       "    </tr>\n",
       "  </tbody>\n",
       "</table>\n",
       "<p>16 rows × 2 columns</p>\n",
       "</div>"
      ],
      "text/plain": [
       "                            ime kratica\n",
       "1           Gardens of the Moon    GotM\n",
       "2               Deadhouse Gates      DG\n",
       "3               Memories of Ice     MoI\n",
       "4               House of Chains     HoC\n",
       "5                Midnight Tides      MT\n",
       "..                          ...     ...\n",
       "12  Return of the Crimson Guard   RotCG\n",
       "13                 Stonewielder      SW\n",
       "14               Blood and Bone      BB\n",
       "15           Orb Sceptre Throne     OST\n",
       "16                       Assail      As\n",
       "\n",
       "[16 rows x 2 columns]"
      ]
     },
     "execution_count": 41,
     "metadata": {},
     "output_type": "execute_result"
    }
   ],
   "source": [
    "knjige"
   ]
  },
  {
   "cell_type": "markdown",
   "metadata": {},
   "source": [
    "## 2. Tabele"
   ]
  },
  {
   "cell_type": "markdown",
   "metadata": {},
   "source": [
    "### 2.1 Pojavitve po knjigi"
   ]
  },
  {
   "cell_type": "markdown",
   "metadata": {},
   "source": [
    "Tu je razvidno, koliko oseb se pojavi v določeni knjigi."
   ]
  },
  {
   "cell_type": "code",
   "execution_count": 42,
   "metadata": {},
   "outputs": [
    {
     "data": {
      "text/html": [
       "<div>\n",
       "<style scoped>\n",
       "    .dataframe tbody tr th:only-of-type {\n",
       "        vertical-align: middle;\n",
       "    }\n",
       "\n",
       "    .dataframe tbody tr th {\n",
       "        vertical-align: top;\n",
       "    }\n",
       "\n",
       "    .dataframe thead th {\n",
       "        text-align: right;\n",
       "    }\n",
       "</style>\n",
       "<table border=\"1\" class=\"dataframe\">\n",
       "  <thead>\n",
       "    <tr style=\"text-align: right;\">\n",
       "      <th></th>\n",
       "      <th>pojavitve</th>\n",
       "    </tr>\n",
       "    <tr>\n",
       "      <th>knjige</th>\n",
       "      <th></th>\n",
       "    </tr>\n",
       "  </thead>\n",
       "  <tbody>\n",
       "    <tr>\n",
       "      <th>GotM</th>\n",
       "      <td>88</td>\n",
       "    </tr>\n",
       "    <tr>\n",
       "      <th>DG</th>\n",
       "      <td>92</td>\n",
       "    </tr>\n",
       "    <tr>\n",
       "      <th>MoI</th>\n",
       "      <td>118</td>\n",
       "    </tr>\n",
       "    <tr>\n",
       "      <th>HoC</th>\n",
       "      <td>135</td>\n",
       "    </tr>\n",
       "    <tr>\n",
       "      <th>MT</th>\n",
       "      <td>90</td>\n",
       "    </tr>\n",
       "    <tr>\n",
       "      <th>...</th>\n",
       "      <td>...</td>\n",
       "    </tr>\n",
       "    <tr>\n",
       "      <th>RotCG</th>\n",
       "      <td>7</td>\n",
       "    </tr>\n",
       "    <tr>\n",
       "      <th>SW</th>\n",
       "      <td>5</td>\n",
       "    </tr>\n",
       "    <tr>\n",
       "      <th>BB</th>\n",
       "      <td>2</td>\n",
       "    </tr>\n",
       "    <tr>\n",
       "      <th>OST</th>\n",
       "      <td>19</td>\n",
       "    </tr>\n",
       "    <tr>\n",
       "      <th>As</th>\n",
       "      <td>2</td>\n",
       "    </tr>\n",
       "  </tbody>\n",
       "</table>\n",
       "<p>16 rows × 1 columns</p>\n",
       "</div>"
      ],
      "text/plain": [
       "        pojavitve\n",
       "knjige           \n",
       "GotM           88\n",
       "DG             92\n",
       "MoI           118\n",
       "HoC           135\n",
       "MT             90\n",
       "...           ...\n",
       "RotCG           7\n",
       "SW              5\n",
       "BB              2\n",
       "OST            19\n",
       "As              2\n",
       "\n",
       "[16 rows x 1 columns]"
      ]
     },
     "execution_count": 42,
     "metadata": {},
     "output_type": "execute_result"
    }
   ],
   "source": [
    "knjige_pojavitve = {}\n",
    "for j in knjige['kratica']:\n",
    "    knjige_pojavitve[j] = 0\n",
    "    for k in osebe['pojavljanje']:\n",
    "        if str(j) in str(k):\n",
    "            knjige_pojavitve[j] += 1\n",
    "\n",
    "knjige_ = {'knjige':list(knjige_pojavitve.keys()), 'pojavitve':list(knjige_pojavitve.values())}\n",
    "knjige_pd = pd.DataFrame.from_dict(knjige_)\n",
    "knjige_pd = knjige_pd.set_index(['knjige'])\n",
    "knjige_pd"
   ]
  },
  {
   "cell_type": "markdown",
   "metadata": {},
   "source": [
    "### 2.2 Najbolj pogoste kombinacije pojavitev v dveh knjigah"
   ]
  },
  {
   "cell_type": "markdown",
   "metadata": {},
   "source": [
    "Seznam števila oseb, ki se pojavijo v kombinaciji dveh knjig."
   ]
  },
  {
   "cell_type": "code",
   "execution_count": 43,
   "metadata": {},
   "outputs": [
    {
     "data": {
      "text/html": [
       "<div>\n",
       "<style scoped>\n",
       "    .dataframe tbody tr th:only-of-type {\n",
       "        vertical-align: middle;\n",
       "    }\n",
       "\n",
       "    .dataframe tbody tr th {\n",
       "        vertical-align: top;\n",
       "    }\n",
       "\n",
       "    .dataframe thead th {\n",
       "        text-align: right;\n",
       "    }\n",
       "</style>\n",
       "<table border=\"1\" class=\"dataframe\">\n",
       "  <thead>\n",
       "    <tr style=\"text-align: right;\">\n",
       "      <th></th>\n",
       "      <th>pojavitve</th>\n",
       "    </tr>\n",
       "    <tr>\n",
       "      <th>par</th>\n",
       "      <th></th>\n",
       "    </tr>\n",
       "  </thead>\n",
       "  <tbody>\n",
       "    <tr>\n",
       "      <th>GotM, DG</th>\n",
       "      <td>19</td>\n",
       "    </tr>\n",
       "    <tr>\n",
       "      <th>GotM, MoI</th>\n",
       "      <td>26</td>\n",
       "    </tr>\n",
       "    <tr>\n",
       "      <th>GotM, HoC</th>\n",
       "      <td>16</td>\n",
       "    </tr>\n",
       "    <tr>\n",
       "      <th>GotM, MT</th>\n",
       "      <td>0</td>\n",
       "    </tr>\n",
       "    <tr>\n",
       "      <th>GotM, BH</th>\n",
       "      <td>17</td>\n",
       "    </tr>\n",
       "    <tr>\n",
       "      <th>...</th>\n",
       "      <td>...</td>\n",
       "    </tr>\n",
       "    <tr>\n",
       "      <th>SW, OST</th>\n",
       "      <td>1</td>\n",
       "    </tr>\n",
       "    <tr>\n",
       "      <th>SW, As</th>\n",
       "      <td>1</td>\n",
       "    </tr>\n",
       "    <tr>\n",
       "      <th>BB, OST</th>\n",
       "      <td>0</td>\n",
       "    </tr>\n",
       "    <tr>\n",
       "      <th>BB, As</th>\n",
       "      <td>2</td>\n",
       "    </tr>\n",
       "    <tr>\n",
       "      <th>OST, As</th>\n",
       "      <td>0</td>\n",
       "    </tr>\n",
       "  </tbody>\n",
       "</table>\n",
       "<p>120 rows × 1 columns</p>\n",
       "</div>"
      ],
      "text/plain": [
       "           pojavitve\n",
       "par                 \n",
       "GotM, DG          19\n",
       "GotM, MoI         26\n",
       "GotM, HoC         16\n",
       "GotM, MT           0\n",
       "GotM, BH          17\n",
       "...              ...\n",
       "SW, OST            1\n",
       "SW, As             1\n",
       "BB, OST            0\n",
       "BB, As             2\n",
       "OST, As            0\n",
       "\n",
       "[120 rows x 1 columns]"
      ]
     },
     "execution_count": 43,
     "metadata": {},
     "output_type": "execute_result"
    }
   ],
   "source": [
    "#seznam, koliko oseb je nastopalo v dveh specifičnih knjigah\n",
    "pari_ponovitev = {}\n",
    "for i in knjige['kratica']:\n",
    "    for j in knjige['kratica']:\n",
    "        if i == j or str(j + ', ' + i) in pari_ponovitev.keys():\n",
    "            continue\n",
    "        pari_ponovitev[i + ', ' + j] = 0\n",
    "        for k in osebe['pojavljanje']:\n",
    "            if str(i) in str(k) and str(j) in str(k):\n",
    "                pari_ponovitev[i + ', ' + j] += 1\n",
    "       \n",
    "pari_ponovitev_ = {'par':list(pari_ponovitev.keys()), 'pojavitve':list(pari_ponovitev.values())}\n",
    "pari_ponovitev_pd = pd.DataFrame.from_dict(pari_ponovitev_)\n",
    "pari_ponovitev_pd = pari_ponovitev_pd.set_index(['par'])\n",
    "pari_ponovitev_pd"
   ]
  },
  {
   "cell_type": "code",
   "execution_count": 44,
   "metadata": {},
   "outputs": [
    {
     "data": {
      "text/html": [
       "<div>\n",
       "<style scoped>\n",
       "    .dataframe tbody tr th:only-of-type {\n",
       "        vertical-align: middle;\n",
       "    }\n",
       "\n",
       "    .dataframe tbody tr th {\n",
       "        vertical-align: top;\n",
       "    }\n",
       "\n",
       "    .dataframe thead th {\n",
       "        text-align: right;\n",
       "    }\n",
       "</style>\n",
       "<table border=\"1\" class=\"dataframe\">\n",
       "  <thead>\n",
       "    <tr style=\"text-align: right;\">\n",
       "      <th></th>\n",
       "      <th>pojavitve</th>\n",
       "    </tr>\n",
       "    <tr>\n",
       "      <th>par</th>\n",
       "      <th></th>\n",
       "    </tr>\n",
       "  </thead>\n",
       "  <tbody>\n",
       "    <tr>\n",
       "      <th>DoD, CG</th>\n",
       "      <td>149</td>\n",
       "    </tr>\n",
       "    <tr>\n",
       "      <th>RG, DoD</th>\n",
       "      <td>106</td>\n",
       "    </tr>\n",
       "    <tr>\n",
       "      <th>RG, CG</th>\n",
       "      <td>88</td>\n",
       "    </tr>\n",
       "    <tr>\n",
       "      <th>HoC, BH</th>\n",
       "      <td>73</td>\n",
       "    </tr>\n",
       "    <tr>\n",
       "      <th>BH, CG</th>\n",
       "      <td>69</td>\n",
       "    </tr>\n",
       "    <tr>\n",
       "      <th>BH, RG</th>\n",
       "      <td>61</td>\n",
       "    </tr>\n",
       "    <tr>\n",
       "      <th>BH, DoD</th>\n",
       "      <td>57</td>\n",
       "    </tr>\n",
       "    <tr>\n",
       "      <th>DG, HoC</th>\n",
       "      <td>48</td>\n",
       "    </tr>\n",
       "    <tr>\n",
       "      <th>HoC, CG</th>\n",
       "      <td>48</td>\n",
       "    </tr>\n",
       "    <tr>\n",
       "      <th>HoC, RG</th>\n",
       "      <td>47</td>\n",
       "    </tr>\n",
       "  </tbody>\n",
       "</table>\n",
       "</div>"
      ],
      "text/plain": [
       "         pojavitve\n",
       "par               \n",
       "DoD, CG        149\n",
       "RG, DoD        106\n",
       "RG, CG          88\n",
       "HoC, BH         73\n",
       "BH, CG          69\n",
       "BH, RG          61\n",
       "BH, DoD         57\n",
       "DG, HoC         48\n",
       "HoC, CG         48\n",
       "HoC, RG         47"
      ]
     },
     "execution_count": 44,
     "metadata": {},
     "output_type": "execute_result"
    }
   ],
   "source": [
    "pari_ponovitev_pd_top10 = pari_ponovitev_pd.sort_values('pojavitve', ascending=False).head(10)\n",
    "pari_ponovitev_pd_top10"
   ]
  },
  {
   "cell_type": "markdown",
   "metadata": {},
   "source": [
    "### 2.3 Najbolj pogosta začetnica v knjigi"
   ]
  },
  {
   "cell_type": "markdown",
   "metadata": {},
   "source": [
    "Iz podatkov imamo pridobljeno največje število oseb, ki se začnejo na isto črko ter katera ta črka je."
   ]
  },
  {
   "cell_type": "code",
   "execution_count": 45,
   "metadata": {},
   "outputs": [
    {
     "name": "stdout",
     "output_type": "stream",
     "text": [
      "{'GotM': [\"A'Karonys\", 'Anomander Rake', 'Antsy', 'Apsalar', 'Baran', 'Baruk', 'Bellurdan Skullcrusher', 'Ben Adaephon Delat', 'Blind', 'Blues', 'Caladan Brood', 'Calot', \"Challice D'Arle\", 'Chert', 'Circle Breaker', 'Coll', 'Cotillion', 'Cowl', 'Crokus Younghand', 'Crone', 'Derudan', 'Doan', 'Dujek Onearm', \"Estraysian D'Arle\", 'Felisin Paran', 'Fiddler', 'Fingers', 'Gamet', 'Ganoes Stabro Paran', 'Ganrod', 'Gear', 'Gorlas Vidikas', 'Hairlock', 'Hedge', 'Horult', 'Icarium', 'Irilta', 'Jorrick Sharplance', \"K'azz D'Avore\", \"K'rul\", 'Kalam Mekhar', 'Kallor', 'Kig Aven', 'Korlat', 'Kruppe', 'Krute of Talient', 'Laseen', 'Lim', 'Logros', 'Lorn', 'Mallet', 'Mammot', 'Mappo Runt', 'Meese', 'Moby', 'Murillio', 'Nightchill', 'Ocelot', \"Onos T'oolan\", 'Orfantal', 'Parald', 'Picker', 'Pran Chole', 'Raest', 'Rallick Nom', 'Rood', 'Scurve', 'Serrat', 'Shadowthrone', 'Shan', 'Silanah', 'Simtal', 'Stillis', 'Sulty', 'Talo Krafar', 'Tattersail', 'Tavore Paran', 'Tayschrenn', 'Tholis', 'Toc the Elder', 'Toc the Younger', 'Topper', 'Travale', 'Trotts', 'Turban Orr', 'Vildrom', 'Vorcan', 'Whiskeyjack'], 'DG': ['Apsalar', 'Apt', 'Aralt Arpat', 'Baran', 'Baria Setral', 'Baudin', 'Ben Adaephon Delat', 'Beneth', 'Bent', 'Bidithal', 'Blind', 'Blistig', 'Bula', 'Bult', 'Chenned', 'Coltaine', 'Cotillion', 'Crokus Younghand', 'Cuttle', 'Duiker', 'Febryl', 'Felisin Paran', 'Fiddler', 'Gall', 'Gear', 'Gesler', 'Gothos', 'Grub', 'Gryllen', 'Heboric Light Touch', 'Hentos Ilm', 'Icarium', 'Irp', 'Iskaral Pust', 'Kalam Mekhar', 'Kamist Reloe', 'Karpolan Demesand', 'Karsa Orlong', 'Keneb', 'Kesen', 'Kimloc', 'Korbolo Dom', 'Kulp', \"L'oric\", 'Laseen', 'Legana Breed', 'Lenestro', 'Leoman of the Flails', 'List', 'Lostara Yil', 'Lull', 'Mallick Rel', 'Mappo Runt', 'Mebra', 'Mesker Setral', 'Messremb', 'Minala', 'Mincer', 'Moby', 'Mogora', 'Nether', 'Nethpara', 'Nil', 'Olar Ethil', 'Panek', 'Pearl', 'Pella', 'Pormqual', 'Pullyk Alar', 'Rellock', 'Roach', 'Rood', 'Rudd', 'Ryllandaras', 'Salk Elan', 'Sawark', 'Selv', \"Sha'ik\", 'Shadowthrone', 'Shan', \"Sormo E'nath\", 'Squint', 'Stormy', 'Sulmar', \"T'Amber\", 'Tavore Paran', 'Temul', 'Tene Baralta', 'Topper', 'Truth', 'Tumlit', 'Vaneb'], 'MoI': ['Aimless', 'Anaster', 'Anomander Rake', 'Antsy', 'Arard', 'Ay Estos', 'Azra Jael', 'Baaljagg', 'Barack', 'Baruk', 'Bauchelain', 'Baudin', 'Bek Okhan', 'Ben Adaephon Delat', 'Bendal Home', 'Blend', 'Bluepearl', 'Brukhalian', 'Bucklund', 'Buke', 'Cafal', 'Caladan Brood', 'Cannig Tol', 'Coll', 'The Crippled God', 'Crone', 'Detoran', 'Draconus', 'Duiker', 'Dujek Onearm', 'Emancipor Reese', \"Estraysian D'Arle\", 'Farakalian', 'Ganoes Stabro Paran', 'Garath', 'Gethol', 'Gruntle', 'Gumble', 'Haradas', 'Hareb', 'Harllo', 'Hedge', 'Hetan', 'Hood', 'Humbrall Taur', 'Hurlochel', 'Inal', 'Itkovian', 'Jerlarkan', 'Job Bole', \"K'rul\", 'Kahlt', 'Kallor', 'Karnadas', 'Kerul', 'Kilava', 'Korbal Broach', 'Korlat', 'Kron', 'Kruppe', 'Kulpath', 'Lady Envy', 'Lanas Tog', 'Mallet', 'Marble', 'The Mhybe', 'Mok', 'Mulch', 'Munug', 'Murillio', 'Netok', 'Nilbanas', 'Nkalian', 'Norul', 'Okral Lom', 'Olar Ethil', \"Onos T'oolan\", 'Orfantal', 'Ormulogun', 'The Pannion Seer', 'Picker', 'Pran Chole', 'Raest', \"Rath'Beru\", \"Rath'Burn\", \"Rath'Dessembrae\", \"Rath'D'rek\", \"Rath'Fanderay\", \"Rath'Fener\", \"Rath'Hood\", \"Rath'Oponn\", \"Rath'Queen of Dreams\", \"Rath'Shadowthrone\", \"Rath'Togg\", \"Rath'Trake\", 'Runter', 'Seerdomin', 'Senu', 'Shank', 'Sidlis', 'Silverfox', 'Spindle', 'Stonny Menackis', 'Straw', 'Stump', 'Sty', 'Talamandas', 'Tayschrenn', 'Thurule', 'Toc the Younger', 'Toes', 'Torun', 'Treach', 'Trotts', 'Twist', 'Ultentha', 'Velbara', 'Whiskeyjack'], 'HoC': ['Able', 'Andarist', 'Apsalar', 'Apt', 'Aramala', 'Astabb', \"Ba'ienrok\", 'Bairoth Gild', 'Balantis', 'Baldick', 'Balm', 'Bell', 'Ben Adaephon Delat', 'Bent', 'Bidithal', 'Blind', 'Blistig', 'Borduke', 'Bottle', 'Bowl', 'Borrug', 'Braven Tooth', 'Burnt', 'Calm', \"Corabb Bhilan Thenu'alas\", 'Cord', 'Cotillion', 'Crokus Younghand', 'Cuttle', 'Cynnigig', 'Damisk', 'Darist', 'Dassem Ultor', 'Dayliss', 'Deadsmell', 'Delum Thord', 'Duryl', 'Ebron', 'Enias', 'Ethume', 'Fayelle', 'Febryl', 'Felisin Paran', 'Felisin Younger', 'Fiddler', 'Flashwit', 'Gall', 'Galt', 'Gamet', 'Gesler', 'Greyfrog', 'Grub', 'Gullstream', 'Heboric Light Touch', 'Hedge', 'Henarist', 'Ibb', 'Ibra Gholan', 'Icarium', 'Imrahl', 'Iskaral Pust', 'Jibb', 'Jorrude', 'Kalam Mekhar', 'Kamist Reloe', 'Karsa Orlong', 'Kasanal', 'Keneb', 'Kindly', 'Korbolo Dom', 'Koryk', \"L'oric\", 'Leoman of the Flails', 'Limp', 'Lobe', 'Lostara Yil', 'Lutes', 'Malachar', 'Mappo Runt', 'Mathok', 'Maybe', 'Mebra', 'Minala', 'Moak', 'Mogora', 'Monok Ochem', 'Mosel', 'Nether', 'Nil', 'Nok', 'Onrack', 'Orenas', 'Pahlk', 'Panek', 'Pearl', 'Pella', 'Phyrlis', 'Pores', 'Ramp', 'Ranal', 'Roach', 'Rood', 'Ryllandaras', 'Sands', 'Scillara', 'Scrawl', 'Shadowthrone', 'Shard', 'Shortnose', 'Silgar', 'Sinn', 'Smiles', 'Sobelone', 'Squint', 'Stacker', 'Stormy', 'Synyg', \"T'Amber\", \"T'morol\", 'Tarr', 'Tavore Paran', 'Tavos Pond', 'Temul', 'Tene Baralta', 'Thom Tissy', 'Throatslitter', 'Topper', 'Torvald Nom', 'Trull Sengar', 'Truth', 'Tulip', 'Tugg', 'Uru Hela', 'Urugal the Woven', 'Widdershins'], 'MT': ['Ahlrada Ahn', 'Arahathan', 'Badar', 'Binadas Sengar', 'Biri', 'Brys Beddict', 'Bubryd', 'Bugg', 'Buruk the Pale', 'Chalas', 'Choram Irard', 'Corlo', 'The Crippled God', 'Delist', 'Enedictal', 'The Errant', 'Ezgara Diskanar', 'Fear Sengar', 'Feather Witch', 'Gerun Eberict', 'Glisten', 'Gothos', 'Green Pig', 'Halfpeck', 'Hannan Mosag', 'Hanradi Khalag', 'Harlest', 'Hejun', 'Hulad', 'Huldo', 'Hulbat', 'Hull Beddict', 'Inchers', 'Iron Bars', 'Janall', 'Kettle', 'Kholb Harat', 'Kuru Qan', 'Laerdas', 'Mape', 'Matra Brith', 'Mayen', 'Menandore (Sister Dawn)', 'Midik Buhn', 'Moroch Nevath', 'Nekal Bara', 'Nifadas', 'Nisall', 'Old Hunch Arbat', 'Onyx', 'Ormly', 'Paderunt', 'Prist', 'Pule', 'Quillas Diskanar', 'Rethal', 'Rhulad Sengar', 'Rind', 'Rissarh', 'Ruby', 'Rucket', 'Rud Ellale', 'Sandalath Drukorlat', 'Scabandari Bloodeye', 'Scint', 'Selush', 'Seren Pedac', 'Serenity', 'Shand', 'Shurq Elalle', 'Silchas Ruin', 'Strong Rall', 'Tehol Beddict', 'Theradas Buhn', 'Tomad Sengar', 'Triban Gnol', 'Trull Sengar', 'Turble', 'Ublala Pung', 'Udinaas', 'Ulshun Pral', 'Unn', 'Unnutal Hebaz', 'Ursto Hoobutt', 'Urul', 'Uruth', 'Virrick', 'Withal', 'Wither', 'Yan Tovis'], 'BH': ['Agayla', 'Ahlrada Ahn', 'Apsalar', 'Apt', 'Balm', 'Banaschar', 'Baran', 'Barathol Mekhar', 'Ben Adaephon Delat', 'Bent', 'Blind', 'Blistig', 'Borduke', 'Bottle', 'Bowl', 'Braven Tooth', 'Brethless', 'Bult', 'Chaur', 'Coop', \"Corabb Bhilan Thenu'alas\", 'Cotillion', 'Crokus Younghand', 'Crump', 'Curdle', 'Cuttle', 'Deadsmell', 'Dejim Nebrahl', 'Dujek Onearm', 'Dunsparrow', 'Ebron', 'Edgewalker', 'Faradan Sort', 'Felisin Younger', 'Feather Witch', 'Fiddler', 'Futhgar', 'Gall', 'Ganath', 'Ganoes Stabro Paran', 'Gesler', 'Gethol', 'Greyfrog', 'Grub', 'Gruntle', 'Gumble', 'Hanradi Khalag', 'Hattar', 'Hayrith', 'Heboric Light Touch', 'Hedge', 'Hellian', 'Hood', 'Hurlochel', 'Ibra Gholan', 'Icarium', 'Iskaral Pust', 'Kalam Mekhar', 'Karpolan Demesand', 'Karsa Orlong', 'Keneb', 'Kindly', 'Kiska', 'Korbolo Dom', 'Koryk', 'Krughava', 'Kulat', \"L'oric\", 'Laseen', 'Legana Breed', 'Leoman of the Flails', 'Lostara Yil', 'Lubben', 'Lutes', \"Madan'tul Rada\", 'Mallick Rel', 'Mappo Runt', 'Masan Gilani', 'Mathok', 'Maybe', 'Mayfly', 'Minala', 'Moak', 'Mogora', 'Monok Ochem', 'Nether', 'Nil', 'Nok', 'Noto Boil', 'Nulliss', 'Obo', 'Onrack', 'Ormulogun', 'Pearl', 'Pella', 'Phaed', 'Pores', 'Roach', 'Ruthan Gudd', 'Rythe Bude', 'Saltlick', 'Samar Dev', 'Sands', 'Sathboro Rangar', 'Scillara', 'Shadowthrone', 'Shard', 'Shortnose', 'Sinn', 'Sister Spite', 'Smiles', 'Squint', 'Stormy', 'Sweetcreek', \"T'Amber\", 'Tanakalian', 'Taralack Veed', 'Tarr', 'Tavore Paran', 'Tavos Pond', 'Tayschrenn', 'Taxilian', 'Telorast', 'Temul', 'Temper', 'Tene Baralta', 'Thom Tissy', 'Throatslitter', 'Tomad Sengar', 'Torahval Delat', 'Touchy', 'Trull Sengar', 'Truth', 'Urb', 'Varat Taun', 'Widdershins', 'Withal', 'Yan Tovis'], 'RG': ['Anaster', 'Anomander Rake', 'Badan Gruk', 'Balgrid', 'Balm', 'Banaschar', 'Beak', 'Bellig Harn', 'Ben Adaephon Delat', 'Bivatt', 'Blistig', 'Bottle', 'Bowl', 'Brethless', 'Brevity', 'Brohl Handar', 'Brullyg', 'Bruthen Trana', 'Brys Beddict', 'Bugg', 'Clip', \"Corabb Bhilan Thenu'alas\", 'Cord', 'Cotillion', 'The Crippled God', 'Crump', 'Curdle', 'Cuttle', 'Deadsmell', 'Drawfirst', 'Ebron', 'The Errant', 'Faradan Sort', 'Fear Sengar', 'Feather Witch', 'Fiddler', 'Flashwit', 'Galt', 'Gesler', 'Gothos', 'Grub', 'Gullstream', 'Gunth Mach', 'Hadralt', 'Hannan Mosag', 'Hanno', 'Hanradi Khalag', 'Hedge', 'Hellian', 'Hetan', 'Honey', 'Hood', 'Hostille Rator', 'Hunt', 'Icarium', 'Imroth', 'Janall', 'Janath Anar', 'Jibb', 'Karos Invictad', 'Karsa Orlong', 'Keneb', 'Kettle', 'Kilava', 'Kilmandaros', 'Kindly', 'Knuckles', 'Koryk', 'Kuru Qan', 'Letur Anict', 'Limp', 'Lobe', 'Lookback', 'Lostara Yil', 'Lutes', \"Madan'tul Rada\", 'Masan Gilani', 'Masarch', 'Maybe', 'Mayfly', 'Menandore (Sister Dawn)', 'Mudslinger', 'Natarkas', 'Neller', 'Nep Furrow', 'Nimander Golit', 'Nisall', 'Old Hunch Arbat', \"Onos T'oolan\", 'Onrack', \"Orbyn 'Truthfinder'\", 'Ormly', 'Phaed', 'Pithy', 'Pravalak Rim', 'Primly', 'Pully', 'Ramp', 'Rautos Hivanar', 'Redmask', 'Reem', 'Reliko', 'Rhulad Sengar', 'Rucket', 'Rud Ellale', 'Ruffle', \"Sag'Churok\", 'Saltlick', 'Samar Dev', 'Sandalath Drukorlat', 'Sands', 'Scant', 'Seren Pedac', 'Setoc', 'Shadowthrone', 'Shard', 'Sheltatha Lore (Daughter Dusk)', 'Shoaly', 'Shortnose', 'Shurq Elalle', 'Silchas Ruin', 'Sinn', 'Sirryn Kanar', 'Skim', 'Skorken Kaban', 'Skulldeath', 'Skwish', 'Smiles', 'Stormy', 'Strap Mull', 'Sukul Ankhadu (Sister Dapple)', 'Tanal Yathvanar', 'Taralack Veed', 'Tarr', 'Tavore Paran', 'Tavos Pond', 'Taxilian', 'Tehol Beddict', 'Telorast', 'Thom Tissy', 'Throatslitter', \"Til'Aras Benok\", 'Toc the Younger', 'Tomad Sengar', 'Torrent', 'Touchy', 'Triban Gnol', 'Trull Sengar', 'Tulip', 'Ublala Pung', 'Udinaas', 'Ulshun Pral', 'Urb', 'Ursto Hoobutt', 'Uru Hela', 'Uruth', 'Varat Taun', 'Vastly Blank', 'Venitt Sathad', 'Widdershins', 'Withal', 'Wither', 'Yan Tovis', 'Yedan Derryg'], 'TH': ['Amby Bole', 'Anomander Rake', 'Antsy', \"Apsal'ara\", 'Aranatha', 'Bainisk', 'Baran', 'Barathol Mekhar', 'Baruk', 'Bedek', 'Bellam Nom', 'Bellurdan Skullcrusher', 'Blend', 'Blind', 'Bluepearl', 'Bult', 'Caladan Brood', 'Cartographer', \"Challice D'Arle\", 'Chaur', 'Chillbais', 'Clip', 'Coll', 'Cotillion', 'Crokus Younghand', 'Crone', 'Dassem Ultor', 'Derudan', 'Desra', 'Ditch', 'Draconus', 'Duiker', 'Edgewalker', 'Endest Silann', \"Estraysian D'Arle\", 'Faint', 'Fisher', 'Ganoes Stabro Paran', 'Gaz', 'Gear', 'Glanno Tarp', 'Gorlas Vidikas', 'Gothos', 'Gradithan', 'Gruntle', 'Hanut Orr', 'Harllo (Younger)', 'Hood', 'Humble Measure', 'Irilta', 'Iskaral Pust', 'Jula Bole', \"K'rul\", 'Kadaspala', 'Kallor', 'Karsa Orlong', 'Kedeviss', 'Korlat', 'Kruppe', 'Krute of Talient', 'Lady Envy', 'Lazan Door', 'Leff', 'Lock', 'Madrun', 'Mallet', 'Mappo Runt', 'Master Quell', 'Meese', 'Mogora', 'Monkrat', 'Munug', 'Murillio', 'Myrla', 'Nenanda', 'Nimander Golit', 'Orfantal', 'Pallid', 'Pearl (Demon)', 'Picker', 'Precious Thimble', 'Prophet Seech', 'Raest', 'Rallick Nom', 'Reccanto Ilk', 'Rood', 'Salind', 'Samar Dev', 'Scillara', 'Scorch', 'Scurve', 'Seba Krafar', 'Seerdomin', 'Shadowthrone', 'Shan', 'Shardan Lim', 'Silanah', 'Sister Spite', 'Skintick', 'Snell', 'Sordiko Qualm', 'Spindle', 'Spinnock Durav', 'Stonny Menackis', 'Studlock', 'Sulty', 'Sweetest Sufferance', 'Thordy', 'Thurule', 'Tiserra', 'Toc the Younger', 'Torvald Nom', 'Tulas Shorn', 'Venaz', 'Vorcan', 'Whiskeyjack'], 'DoD': ['Abrastal', 'Absi', 'Amby Bole', 'Anaster', 'Aranict', 'Asane', 'Baaljagg', 'Badalle', 'Badan Gruk', 'Bakal', 'Balgrid', 'Balm', 'Banaschar', 'Bavedict', 'Ben Adaephon Delat', 'Bent', 'Beroke Soft Voice', 'Blistig', 'Bottle', 'Brayderal', \"Bre'neigan\", 'Breath', 'Brethless', 'Brevity', 'Brolos Haran', 'Brys Beddict', 'Bugg', 'Burnt Rope', 'Cafal', 'Cartographer', 'Clasp', \"Corabb Bhilan Thenu'alas\", 'Cord', 'Crump', 'Curdle', 'Cuttle', \"D'rek\", 'Dathenar Fandoris', 'Deadsmell', 'Draconus', 'Drawfirst', 'Ebron', 'Erekala', 'The Errant', 'Faint', 'Faradan Sort', 'Fast', 'Felash', 'Feather Witch', 'Fiddler', 'Flashwit', 'Gall', 'Galt', 'Gaunt-Eye', 'Gesler', 'Grub', 'Gruntle', \"Gu'Rull\", 'Gullstream', 'Gunth Mach', \"Gunth'an Acyl\", 'Thalad the Giant', 'Handmaiden', 'Hanavat', 'Heboric Light Touch', 'Hedge', 'Held', 'Hellian', 'Henar Vygulf', 'Hetan', 'Honey', 'Hood', 'Hunt', 'Icarium', 'Ilm Absinos', 'Inistal Ovan', 'Janath Anar', 'Jarabb', 'Jula Bole', 'Kalb the Silent Hunter', 'Kalt Urmanal', 'Kalyth', 'Keneb', 'Kilava', 'Kilmandaros', 'Kindly', 'Kisswhere', 'Knuckles', 'Kor Thuran', 'Koryk', 'Krughava', 'Lap Twirl', 'Last', 'Lera Epar', 'Limp', 'Lobe', 'Lookback', 'Lostara Yil', 'Mallet', 'Mape', 'Mappo Runt', 'Maral Eb', 'Masan Gilani', 'Maybe', 'Mayfly', 'Mulvan Dreader', 'Nappet', 'Neller', 'Nep Furrow', 'Nom Kala', 'Nose Stream', 'Olar Ethil', \"Onos T'oolan\", 'Onrack', 'Pinosel', 'Pithy', 'Pores', 'Pravalak Rim', 'Prazek Goul', 'Precious Thimble', 'Primly', 'Pule', 'Pully', 'Raband', 'Ralata', 'Rautos Hivanar', 'Reem', 'Reliko', 'Rind', 'Roach', 'Rucket', 'Rud Ellale', 'Ruffle', 'Rumjugs', \"Run'Thurvian\", 'Ruthan Gudd', 'Rutt', 'Rystalle Ev', 'Rythok', 'Sad', 'Saddic', \"Sag'Churok\", 'Saltlick', 'Sandalath Drukorlat', 'Scant', 'Seren Pedac', 'Setoc', 'Shard', 'Sheb', 'Shelemasa', 'Shoaly', 'Shortnose', 'Shurq Elalle', 'Silchas Ruin', 'Sinn', 'Sinter', 'Skanarow', 'Skim', 'Skorken Kaban', 'Skulldeath', 'Skwish', 'Smiles', 'Spax', 'Stavi', 'Stolmen', 'Storii', 'Stormy', 'Stahl', 'Strap Mull', 'Sulkit', 'Sunrise', 'Sweetlard', 'Talamandas', 'Tanakalian', 'Taralack Veed', 'Tarr', 'Tavore Paran', 'Taxilian', 'Tehol Beddict', 'Telorast', 'Thenik the Shattered', 'Thom Tissy', 'Throatslitter', 'Toc the Younger', 'Torrent', 'Touchy', 'Trotts', 'Tulip', 'Ublala Pung', 'Udinaas', 'Ulag Togtil', 'Ulshun Pral', 'Untilly Rum', 'Urb', 'Ursto Hoobutt', 'Urugal the Woven', 'Vastly Blank', 'Vedith', 'Whiskeyjack', 'Widdershins', 'Wimble Thrup', 'Withal', 'Yan Tovis', 'Yedan Derryg'], 'CG': ['Abide', 'Abrastal', 'Absi', 'Aloft', 'Amby Bole', 'Amiss', 'Anaster', 'Aparal Forge', \"Apsal'ara\", 'Apsalar', 'Aranict', 'Baaljagg', 'Badalle', 'Badan Gruk', 'Balm', 'Banaschar', 'Bavedict', 'Belie', 'Bent', 'Beroke Soft Voice', 'Beru', 'Blistig', 'Blues', 'Bottle', 'Braven Tooth', \"Bre'neigan\", 'Brethless', 'Brevity', 'Bruthen Trana', 'Brys Beddict', 'Bugg', 'Burnt Rope', 'Calm', 'Cartographer', 'Clasp', \"Corabb Bhilan Thenu'alas\", 'Cord', 'Cotillion', 'The Crippled God', 'Crone', 'Crump', 'Curdle', 'Cuttle', \"D'rek\", 'Dathenar Fandoris', 'Deadsmell', 'Desra', 'Dessembrae', 'Diligence', 'Draconus', 'Drawfirst', 'Ebron', 'Eldat Pressan', 'Equity', 'Erekala', 'The Errant', 'Exigent', 'Faint', 'Faradan Sort', 'Felash', 'Festian', 'Fiddler', 'Flashwit', 'Freedom', 'Gaelar Throe', 'Gall', 'Ganoes Stabro Paran', 'Gaunt-Eye', 'Gesler', 'Grave', 'Grub', 'Gruntle', \"Gu'Rull\", 'Gumble', 'Gunth Mach', 'Haggraf', 'Thalad the Giant', 'Handmaiden', 'Hanavat', 'Heboric Light Touch', 'Hedge', 'Held', 'Hellian', 'Henar Vygulf', 'Hestand', 'Hetan', 'Honey', 'Hood', 'Hurlochel', 'Icarium', 'Iparth Erule', 'Jastara', 'Jhess', \"K'azz D'Avore\", \"K'rul\", 'Kadagar Fant', 'Kalb the Silent Hunter', 'Kalam Mekhar', 'Kallor', 'Kalt Urmanal', 'Kalyth', 'Karsa Orlong', 'Kessgan', 'Kilava', 'Kilmandaros', 'Kindly', 'Kiska', 'Kisswhere', 'Knuckles', 'Korbolo Dom', 'Korlat', 'Koryk', 'Krughava', 'Kruppe', 'Lap Twirl', 'Lera Epar', 'Limp', 'Lookback', 'Lostara Yil', 'Mallet', 'Mappo Runt', 'Masan Gilani', 'Mathok', 'Maybe', 'Mayfly', 'Melest', 'Minala', 'Mowri', 'Munug', 'Nenanda', 'Nep Furrow', 'Nimander Golit', 'Nom Kala', 'Noto Boil', 'Olar Ethil', \"Onos T'oolan\", 'Onrack', 'Ormulogun', 'Picker', 'Pithy', 'Placid', 'Pores', 'Pravalak Rim', 'Prazek Goul', 'Precious Thimble', 'Pully', 'Raband', 'Ralata', 'Reliko', 'Reverence', 'Rib', 'Roach', 'Rud Ellale', 'Ruffle', 'Rumjugs', \"Run'Thurvian\", 'Ruthan Gudd', 'Rutt', 'Ryllandaras', 'Rystalle Ev', 'Rythe Bude', 'Sad', 'Saddic', \"Sag'Churok\", 'Saltlick', 'Sandalath Drukorlat', 'Seren Pedac', 'Serenity', 'Setoc', 'Shadowthrone', 'Shard', 'Sharl', 'Shedunul', 'Shelemasa', 'Shortnose', 'Shurq Elalle', 'Silanah', 'Silchas Ruin', 'Sinn', 'Sinter', 'Skanarow', 'Skintick', 'Skorken Kaban', 'Skulldeath', 'Skwish', 'Smiles', 'Spax', 'Spinnock Durav', 'Stavi', 'Storii', 'Stormy', 'Sweetcreek', 'Sweetlard', 'Sweetest Sufferance', \"T'morol\", 'Tanakalian', 'Tarr', 'Tavore Paran', 'Telorast', 'Temper', 'Thenik the Shattered', 'Throatslitter', 'Toc the Elder', 'Toc the Younger', 'Torrent', 'Touchy', 'Trissin', 'Trotts', 'Tulas Shorn', 'Ublala Pung', 'Udinaas', 'Ulag Togtil', 'Ulshun Pral', 'Urb', 'Urugal the Woven', 'Vastly Blank', 'Whiskeyjack', 'Widdershins', 'Wimble Thrup', 'Withal', 'Yan Tovis', 'Yedan Derryg'], 'NoK': ['Agayla', 'Anji', 'Ash', 'Chase', 'Coop', 'Corinn', 'Cotillion', 'Dassem Ultor', 'Edgewalker', 'Faro Balkat', 'Ferrule', 'Fisherman', 'Hattar', 'Jhedel', 'Jhenna', 'Kiska', 'Laseen', 'Lubben', 'Obo', 'Oleg Vikat', 'Possum', 'Pralt', 'Seal', 'Shadowthrone', 'Surgen Ress', 'Tayschrenn', 'Temper', 'Trenech'], 'RotCG': ['Blues', 'Braven Tooth', \"K'azz D'Avore\", 'Kallor', 'Kiska', 'Korbolo Dom', 'Ryllandaras'], 'SW': ['Agayla', 'Blues', 'Ipshank', 'Iron Bars', 'Kiska'], 'BB': ['Blues', \"K'azz D'Avore\"], 'OST': ['Antsy', 'Barathol Mekhar', 'Baruk', 'Bellam Nom', 'Blend', 'Caladan Brood', 'Dassem Ultor', 'Duiker', 'Fisher', 'Humble Measure', \"K'rul\", 'Karsa Orlong', 'Kiska', 'Kruppe', 'Krute of Talient', 'Rallick Nom', 'Scillara', 'Spindle', 'Torvald Nom'], 'As': ['Blues', \"K'azz D'Avore\"]}\n",
      "{'knjiga': ['GotM', 'DG', 'MoI', 'HoC', 'MT', 'BH', 'RG', 'TH', 'DoD', 'CG', 'NoK', 'RotCG', 'SW', 'BB', 'OST', 'As'], 'črka': ['T', 'B', 'R', 'B', 'S', 'T', 'S', 'S', 'S', 'S', 'C', 'K', 'I', 'B', 'K', 'B'], 'ponovitev': [11, 11, 14, 17, 10, 19, 25, 21, 33, 33, 4, 4, 2, 1, 5, 1]}\n"
     ]
    },
    {
     "data": {
      "text/html": [
       "<div>\n",
       "<style scoped>\n",
       "    .dataframe tbody tr th:only-of-type {\n",
       "        vertical-align: middle;\n",
       "    }\n",
       "\n",
       "    .dataframe tbody tr th {\n",
       "        vertical-align: top;\n",
       "    }\n",
       "\n",
       "    .dataframe thead th {\n",
       "        text-align: right;\n",
       "    }\n",
       "</style>\n",
       "<table border=\"1\" class=\"dataframe\">\n",
       "  <thead>\n",
       "    <tr style=\"text-align: right;\">\n",
       "      <th></th>\n",
       "      <th></th>\n",
       "      <th>ponovitev</th>\n",
       "    </tr>\n",
       "    <tr>\n",
       "      <th>knjiga</th>\n",
       "      <th>črka</th>\n",
       "      <th></th>\n",
       "    </tr>\n",
       "  </thead>\n",
       "  <tbody>\n",
       "    <tr>\n",
       "      <th>GotM</th>\n",
       "      <th>T</th>\n",
       "      <td>11</td>\n",
       "    </tr>\n",
       "    <tr>\n",
       "      <th>DG</th>\n",
       "      <th>B</th>\n",
       "      <td>11</td>\n",
       "    </tr>\n",
       "    <tr>\n",
       "      <th>MoI</th>\n",
       "      <th>R</th>\n",
       "      <td>14</td>\n",
       "    </tr>\n",
       "    <tr>\n",
       "      <th>HoC</th>\n",
       "      <th>B</th>\n",
       "      <td>17</td>\n",
       "    </tr>\n",
       "    <tr>\n",
       "      <th>MT</th>\n",
       "      <th>S</th>\n",
       "      <td>10</td>\n",
       "    </tr>\n",
       "    <tr>\n",
       "      <th>...</th>\n",
       "      <th>...</th>\n",
       "      <td>...</td>\n",
       "    </tr>\n",
       "    <tr>\n",
       "      <th>RotCG</th>\n",
       "      <th>K</th>\n",
       "      <td>4</td>\n",
       "    </tr>\n",
       "    <tr>\n",
       "      <th>SW</th>\n",
       "      <th>I</th>\n",
       "      <td>2</td>\n",
       "    </tr>\n",
       "    <tr>\n",
       "      <th>BB</th>\n",
       "      <th>B</th>\n",
       "      <td>1</td>\n",
       "    </tr>\n",
       "    <tr>\n",
       "      <th>OST</th>\n",
       "      <th>K</th>\n",
       "      <td>5</td>\n",
       "    </tr>\n",
       "    <tr>\n",
       "      <th>As</th>\n",
       "      <th>B</th>\n",
       "      <td>1</td>\n",
       "    </tr>\n",
       "  </tbody>\n",
       "</table>\n",
       "<p>16 rows × 1 columns</p>\n",
       "</div>"
      ],
      "text/plain": [
       "             ponovitev\n",
       "knjiga črka           \n",
       "GotM   T            11\n",
       "DG     B            11\n",
       "MoI    R            14\n",
       "HoC    B            17\n",
       "MT     S            10\n",
       "...                ...\n",
       "RotCG  K             4\n",
       "SW     I             2\n",
       "BB     B             1\n",
       "OST    K             5\n",
       "As     B             1\n",
       "\n",
       "[16 rows x 1 columns]"
      ]
     },
     "execution_count": 45,
     "metadata": {},
     "output_type": "execute_result"
    }
   ],
   "source": [
    "osebe_v_knjigi = {}\n",
    "for i in knjige['kratica']:\n",
    "    osebe_v_knjigi[i] = []\n",
    "    for index, row in osebe.iterrows():\n",
    "        if i in str(row['pojavljanje']):\n",
    "            osebe_v_knjigi[i].append(row['ime'])\n",
    "print(osebe_v_knjigi)\n",
    "\n",
    "začetnice_v_knjigi = {'knjiga': [], 'črka': [], 'ponovitev': []}\n",
    "for i in osebe_v_knjigi.keys():\n",
    "    count = 0\n",
    "    letter = ''\n",
    "    x = 0\n",
    "    for j in \"ABCDEFGHIJKLMNOPRSTUVWXYZ\":\n",
    "        for k in osebe_v_knjigi[i]:\n",
    "            if j == k[0]:\n",
    "                x += 1\n",
    "        if x > count:\n",
    "            count = x\n",
    "            letter = j\n",
    "        x = 0\n",
    "    začetnice_v_knjigi['knjiga'].append(i)\n",
    "    začetnice_v_knjigi['črka'].append(letter)\n",
    "    začetnice_v_knjigi['ponovitev'].append(count)\n",
    "print(začetnice_v_knjigi)\n",
    "začetnice_v_knjigi_pd = pd.DataFrame.from_dict(začetnice_v_knjigi)\n",
    "začetnice_v_knjigi_pd = začetnice_v_knjigi_pd.set_index(['knjiga', 'črka'])\n",
    "začetnice_v_knjigi_pd"
   ]
  },
  {
   "cell_type": "markdown",
   "metadata": {},
   "source": [
    "## 3. Grafi"
   ]
  },
  {
   "cell_type": "markdown",
   "metadata": {},
   "source": [
    "### 3.1 Graf pojavitve po knjigi"
   ]
  },
  {
   "cell_type": "markdown",
   "metadata": {},
   "source": [
    "Spodnji graf najbolje ponazarja, kako nepopolna je spletna stran, iz katere jemljemo podatke. Zaradi tega je tudi težko komentirati, kaj ti podatki sploh ponazarjajo."
   ]
  },
  {
   "cell_type": "code",
   "execution_count": 46,
   "metadata": {},
   "outputs": [
    {
     "data": {
      "text/plain": [
       "<Axes: title={'center': 'Število oseb, ki se pojavijo v knjigi'}, xlabel='knjiga', ylabel='število oseb'>"
      ]
     },
     "execution_count": 46,
     "metadata": {},
     "output_type": "execute_result"
    },
    {
     "data": {
      "image/png": "[encoded data removed]",
      "text/plain": [
       "<Figure size 1200x600 with 1 Axes>"
      ]
     },
     "metadata": {},
     "output_type": "display_data"
    }
   ],
   "source": [
    "knjige_pd.plot.bar(xlabel='knjiga', ylabel='število oseb', figsize=(12, 6), title='Število oseb, ki se pojavijo v knjigi', rot=0)"
   ]
  },
  {
   "cell_type": "markdown",
   "metadata": {},
   "source": [
    "### 3.2 Graf najbolj pogoste kombinacije pojavitev v dveh knjigah"
   ]
  },
  {
   "cell_type": "markdown",
   "metadata": {},
   "source": [
    "Graf najbolj pogoste kombinacije pojavitev v dveh knjigah nam pokaže, da se večina oseb pojavi v dvojici knjig 'Dust of Dreams' in 'The Crippled God'. Razlog za to je, da je dogajanje v teh dveh knjigah najbolj povezano."
   ]
  },
  {
   "cell_type": "code",
   "execution_count": 47,
   "metadata": {},
   "outputs": [
    {
     "data": {
      "text/plain": [
       "<Axes: title={'center': 'Najbolj pogoste kombinacije pojavitev v dveh knjigah'}, xlabel='knjigi', ylabel='število oseb'>"
      ]
     },
     "execution_count": 47,
     "metadata": {},
     "output_type": "execute_result"
    },
    {
     "data": {
      "image/png": "[encoded data removed]",
      "text/plain": [
       "<Figure size 1200x600 with 1 Axes>"
      ]
     },
     "metadata": {},
     "output_type": "display_data"
    }
   ],
   "source": [
    "pari_ponovitev_pd_top10.plot.bar(xlabel='knjigi', ylabel='število oseb', figsize=(12, 6), title='Najbolj pogoste kombinacije pojavitev v dveh knjigah', rot=0)"
   ]
  },
  {
   "cell_type": "markdown",
   "metadata": {},
   "source": [
    "### 3.2 Graf najbolj pogoste začetnice v knjigi"
   ]
  },
  {
   "cell_type": "markdown",
   "metadata": {},
   "source": [
    "Predstavljeni so nadvse zanimivi podatki o tem, katera začetnica je v določeni knjigi najpogostejša."
   ]
  },
  {
   "cell_type": "code",
   "execution_count": 48,
   "metadata": {},
   "outputs": [
    {
     "data": {
      "text/plain": [
       "<Axes: title={'center': 'Najbolj pogosta začetnica v knjigi'}, xlabel='knjiga, začetnica', ylabel='število oseb'>"
      ]
     },
     "execution_count": 48,
     "metadata": {},
     "output_type": "execute_result"
    },
    {
     "data": {
      "image/png": "[encoded data removed]",
      "text/plain": [
       "<Figure size 1400x600 with 1 Axes>"
      ]
     },
     "metadata": {},
     "output_type": "display_data"
    }
   ],
   "source": [
    "začetnice_v_knjigi_pd.plot.bar(xlabel='knjiga, začetnica', ylabel='število oseb', figsize=(14, 6), title='Najbolj pogosta začetnica v knjigi', rot=0)"
   ]
  }
 ],
 "metadata": {
  "kernelspec": {
   "display_name": "Python 3",
   "language": "python",
   "name": "python3"
  },
  "language_info": {
   "codemirror_mode": {
    "name": "ipython",
    "version": 3
   },
   "file_extension": ".py",
   "mimetype": "text/x-python",
   "name": "python",
   "nbconvert_exporter": "python",
   "pygments_lexer": "ipython3",
   "version": "3.11.2"
  },
  "orig_nbformat": 4
 },
 "nbformat": 4,
 "nbformat_minor": 2
}
